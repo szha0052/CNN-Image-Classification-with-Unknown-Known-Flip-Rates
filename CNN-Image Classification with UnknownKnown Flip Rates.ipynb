{
  "nbformat": 4,
  "nbformat_minor": 0,
  "metadata": {
    "colab": {
      "provenance": [],
      "toc_visible": true
    },
    "kernelspec": {
      "name": "python3",
      "display_name": "Python 3"
    },
    "language_info": {
      "name": "python"
    }
  },
  "cells": [
    {
      "cell_type": "code",
      "source": [
        "from google.colab import drive\n",
        "drive.mount('/content/drive')"
      ],
      "metadata": {
        "colab": {
          "base_uri": "https://localhost:8080/"
        },
        "id": "Yy17qMHOmD3j",
        "outputId": "478c51f3-44e4-4796-b9b5-7582e02985ad"
      },
      "execution_count": null,
      "outputs": [
        {
          "output_type": "stream",
          "name": "stdout",
          "text": [
            "Drive already mounted at /content/drive; to attempt to forcibly remount, call drive.mount(\"/content/drive\", force_remount=True).\n"
          ]
        }
      ]
    },
    {
      "cell_type": "markdown",
      "source": [
        "##1 Datasets preparation\n"
      ],
      "metadata": {
        "id": "6Tk4gjRIlFoT"
      }
    },
    {
      "cell_type": "markdown",
      "source": [
        "###1.1 load libary"
      ],
      "metadata": {
        "id": "74t8GN2QRK3h"
      }
    },
    {
      "cell_type": "code",
      "source": [
        "import matplotlib.pyplot as plt\n",
        "import numpy as np\n",
        "import torch\n",
        "import torch.nn as nn\n",
        "import torch.optim as optim\n",
        "import torch.nn.functional as F\n",
        "from torch.utils.data import DataLoader, TensorDataset\n",
        "from sklearn.model_selection import train_test_split\n",
        "\n",
        "import warnings\n",
        "from sklearn.linear_model import LogisticRegression\n",
        "from sklearn.metrics import accuracy_score\n",
        "warnings.filterwarnings('ignore')\n",
        "\n",
        "import tensorflow as tf\n",
        "from tensorflow.keras import layers, models\n",
        "\n",
        "np.random.seed(5328)\n",
        "tf.random.set_seed(5328)"
      ],
      "metadata": {
        "id": "m54A82bDlF_F"
      },
      "execution_count": null,
      "outputs": []
    },
    {
      "cell_type": "markdown",
      "source": [
        "###1.2 Load datasets"
      ],
      "metadata": {
        "id": "fZLS6Tmxk3Z6"
      }
    },
    {
      "cell_type": "code",
      "source": [
        "dataset_F3 = np.load('/content/drive/MyDrive/5328data/FashionMNIST0.3.npz')\n",
        "\n",
        "# Load the training, validation, and test data\n",
        "Xtr_F3 = dataset_F3['X_tr']\n",
        "Str_F3 = dataset_F3['S_tr']\n",
        "Xts_F3 = dataset_F3['X_ts']\n",
        "Yts_F3 = dataset_F3['Y_ts']\n",
        "\n",
        "print(\"Training and Validation Data Shape:\", Xtr_F3.shape)\n",
        "print(\"Noisy labels Shape:\", Str_F3.shape)\n",
        "print(\"Test Data Shape:\", Xts_F3.shape)\n",
        "print(\"Test Labels Shape:\", Yts_F3.shape)"
      ],
      "metadata": {
        "colab": {
          "base_uri": "https://localhost:8080/"
        },
        "id": "Jjd3SIdbjTLY",
        "outputId": "88b9b9b3-5b5e-4623-f975-237f48eb6f9a"
      },
      "execution_count": null,
      "outputs": [
        {
          "output_type": "stream",
          "name": "stdout",
          "text": [
            "Training and Validation Data Shape: (24000, 28, 28)\n",
            "Noisy labels Shape: (24000,)\n",
            "Test Data Shape: (4000, 28, 28)\n",
            "Test Labels Shape: (4000,)\n"
          ]
        }
      ]
    },
    {
      "cell_type": "code",
      "source": [
        "dataset_F6 = np.load('/content/drive/MyDrive/5328data/FashionMNIST0.6.npz')\n",
        "\n",
        "# Load the training, validation, and test data\n",
        "Xtr_F6 = dataset_F6['X_tr']\n",
        "Str_F6 = dataset_F6['S_tr']\n",
        "Xts_F6 = dataset_F6['X_ts']\n",
        "Yts_F6 = dataset_F6['Y_ts']\n",
        "\n",
        "print(\"Training and Validation Data Shape:\", Xtr_F6.shape)\n",
        "print(\"Noisy Labels Shape:\", Str_F6.shape)\n",
        "print(\"Test Data Shape:\", Xts_F6.shape)\n",
        "print(\"Test Labels Shape:\", Yts_F6.shape)"
      ],
      "metadata": {
        "colab": {
          "base_uri": "https://localhost:8080/"
        },
        "id": "NG2YTb-djTXh",
        "outputId": "3315d0e8-193b-4c05-93ae-442728337562"
      },
      "execution_count": null,
      "outputs": [
        {
          "output_type": "stream",
          "name": "stdout",
          "text": [
            "Training and Validation Data Shape: (24000, 28, 28)\n",
            "Noisy Labels Shape: (24000,)\n",
            "Test Data Shape: (4000, 28, 28)\n",
            "Test Labels Shape: (4000,)\n"
          ]
        }
      ]
    },
    {
      "cell_type": "code",
      "source": [
        "dataset_C10 = np.load('/content/drive/MyDrive/5328data/CIFAR10.npz')\n",
        "\n",
        "# Load the training, validation, and test data\n",
        "Xtr_C10 = dataset_C10['X_tr']\n",
        "Str_C10 = dataset_C10['S_tr']\n",
        "Xts_C10 = dataset_C10['X_ts']\n",
        "Yts_C10 = dataset_C10['Y_ts']\n",
        "\n",
        "print(\"Training and Validation Data Shape:\", Xtr_C10.shape)\n",
        "print(\"Noisy labels Shape:\", Str_C10.shape)\n",
        "print(\"Test Data Shape:\", Xts_C10.shape)\n",
        "print(\"Test Labels Shape:\", Yts_C10.shape)"
      ],
      "metadata": {
        "colab": {
          "base_uri": "https://localhost:8080/"
        },
        "id": "55zK1UFPjIEF",
        "outputId": "00a077db-6f84-4921-abd0-02321ea8ebce"
      },
      "execution_count": null,
      "outputs": [
        {
          "output_type": "stream",
          "name": "stdout",
          "text": [
            "Training and Validation Data Shape: (20000, 32, 32, 3)\n",
            "Noisy labels Shape: (20000,)\n",
            "Test Data Shape: (4000, 32, 32, 3)\n",
            "Test Labels Shape: (4000,)\n"
          ]
        }
      ]
    },
    {
      "cell_type": "markdown",
      "source": [
        "### 1.3 Display Images in datasets"
      ],
      "metadata": {
        "id": "TYYtcVXfkxXH"
      }
    },
    {
      "cell_type": "code",
      "source": [
        "def display_images(images, labels, num_images=5):\n",
        "    plt.figure(figsize=(10, 2))\n",
        "    for i in range(num_images):\n",
        "        plt.subplot(1, num_images, i+1)\n",
        "        plt.imshow(images[i], cmap='gray')\n",
        "        plt.title(f\"Label: {labels[i]}\")\n",
        "        plt.axis('off')\n",
        "    plt.show()\n",
        "\n",
        "display_images(Xtr_F6, Str_F6, num_images=5)\n",
        "display_images(Xtr_F3, Str_F3, num_images=5)\n",
        "display_images(Xtr_C10, Str_C10, num_images=5)"
      ],
      "metadata": {
        "colab": {
          "base_uri": "https://localhost:8080/",
          "height": 542
        },
        "id": "EuXTwywIkwsI",
        "outputId": "03000a56-010b-4a36-986b-9e0f1a5d4d4a"
      },
      "execution_count": null,
      "outputs": [
        {
          "output_type": "display_data",
          "data": {
            "text/plain": [
              "<Figure size 1000x200 with 5 Axes>"
            ],
            "image/png": "[encoded data removed]"
          },
          "metadata": {}
        },
        {
          "output_type": "display_data",
          "data": {
            "text/plain": [
              "<Figure size 1000x200 with 5 Axes>"
            ],
            "image/png": "[encoded data removed]"
          },
          "metadata": {}
        },
        {
          "output_type": "display_data",
          "data": {
            "text/plain": [
              "<Figure size 1000x200 with 5 Axes>"
            ],
            "image/png": "[encoded data removed]"
          },
          "metadata": {}
        }
      ]
    },
    {
      "cell_type": "markdown",
      "source": [],
      "metadata": {
        "id": "vB7peMTYRO66"
      }
    },
    {
      "cell_type": "markdown",
      "source": [
        "## 2 Image Classification with known Flip Rates"
      ],
      "metadata": {
        "id": "BWjgP-YLk7zn"
      }
    },
    {
      "cell_type": "code",
      "source": [
        "transition_matrix_FashionMNIST03 = [[0.7, 0.3, 0, 0],\n",
        "                    [0, 0.7, 0.3, 0],\n",
        "                    [0, 0, 0.7, 0.3],\n",
        "                    [0.3, 0, 0, 0.7]]\n",
        "\n",
        "transition_matrix_FashionMNIST06 = [[0.4, 0.2, 0.2, 0.2],\n",
        "                    [0.2, 0.4, 0.2, 0.2],\n",
        "                    [0.2, 0.2, 0.4, 0.2],\n",
        "                    [0.2, 0.2, 0.2, 0.4]]"
      ],
      "metadata": {
        "id": "-Tj9lMl_4cVv"
      },
      "execution_count": null,
      "outputs": []
    },
    {
      "cell_type": "markdown",
      "source": [
        "### 2.1 CNN for FashionMNIST0.6 and FashionMNIST0.3"
      ],
      "metadata": {
        "id": "0tjQKtACMHaG"
      }
    },
    {
      "cell_type": "markdown",
      "source": [
        "#### 2.1.1 CNN without transition matrix for FashionMNIST0.6 and FashionMNIST0.3"
      ],
      "metadata": {
        "id": "EB7z6VvILwnp"
      }
    },
    {
      "cell_type": "code",
      "source": [
        "device = torch.device('cuda' if torch.cuda.is_available() else 'cpu')\n",
        "\n",
        "# CNN Model for 28x28 grayscale images\n",
        "class CNN28x28(nn.Module):\n",
        "    def __init__(self):\n",
        "        super(CNN28x28, self).__init__()\n",
        "        self.conv1 = nn.Conv2d(1, 32, kernel_size=3, padding=1)  # 1 input channel for grayscale\n",
        "        self.conv2 = nn.Conv2d(32, 64, kernel_size=3, padding=1)\n",
        "        self.pool = nn.MaxPool2d(kernel_size=2, stride=2)\n",
        "        self.fc1 = nn.Linear(64 * 7 * 7, 512)  # Adjust based on the output size after pooling\n",
        "        self.fc2 = nn.Linear(512, 4)  # Assuming 4 classes for F3 and F6 datasets\n",
        "\n",
        "    def forward(self, x):\n",
        "        x = self.pool(F.relu(self.conv1(x)))  # First convolution + pooling\n",
        "        x = self.pool(F.relu(self.conv2(x)))  # Second convolution + pooling\n",
        "        x = x.view(-1, 64 * 7 * 7)  # Flatten the tensor\n",
        "        x = F.relu(self.fc1(x))  # Fully connected layer\n",
        "        x = self.fc2(x)  # Output layer\n",
        "        return x\n",
        "\n",
        "# Define the standard cross-entropy loss function\n",
        "criterion = nn.CrossEntropyLoss()\n",
        "\n",
        "def train_and_evaluate(model_class, X, y, epochs=10, batch_size=64):\n",
        "    X_train, X_val, y_train, y_val = train_test_split(X, y, test_size=0.2)\n",
        "    print(\"X_train shape:\", X_train.shape)\n",
        "    print(\"y_train shape:\", y_train.shape)\n",
        "    print(\"Unique labels in y_train:\", np.unique(y_train))\n",
        "\n",
        "    # Convert data to PyTorch Tensor\n",
        "    X_train_tensor = torch.tensor(X_train, dtype=torch.float32).unsqueeze(1)\n",
        "    y_train_tensor = torch.tensor(y_train, dtype=torch.long)\n",
        "    X_val_tensor = torch.tensor(X_val, dtype=torch.float32).unsqueeze(1)\n",
        "    y_val_tensor = torch.tensor(y_val, dtype=torch.long)\n",
        "\n",
        "    # Calculate mean and standard deviation from training data\n",
        "    mean = X_train_tensor.mean()\n",
        "    std = X_train_tensor.std()\n",
        "\n",
        "    # Normalize the training and validation data using the mean and standard deviation of the training set\n",
        "    X_train_tensor = (X_train_tensor - mean) / std\n",
        "    X_val_tensor = (X_val_tensor - mean) / std\n",
        "\n",
        "    train_dataset = TensorDataset(X_train_tensor, y_train_tensor)\n",
        "    val_dataset = TensorDataset(X_val_tensor, y_val_tensor)\n",
        "\n",
        "    train_loader = DataLoader(dataset=train_dataset, batch_size=batch_size, shuffle=True)\n",
        "    val_loader = DataLoader(dataset=val_dataset, batch_size=batch_size, shuffle=False)\n",
        "\n",
        "    model = model_class().to(device)\n",
        "    optimizer = optim.Adam(model.parameters(), lr=0.001)\n",
        "\n",
        "    for epoch in range(epochs):\n",
        "        model.train()\n",
        "        total_loss = 0\n",
        "        for data, targets in train_loader:\n",
        "            data, targets = data.to(device), targets.to(device)\n",
        "\n",
        "            outputs = model(data)\n",
        "            loss = criterion(outputs, targets)  # Standard cross-entropy loss\n",
        "\n",
        "            optimizer.zero_grad()\n",
        "            loss.backward()\n",
        "            optimizer.step()\n",
        "\n",
        "            total_loss += loss.item()\n",
        "\n",
        "        avg_loss = total_loss / len(train_loader)\n",
        "        print(f'Epoch {epoch+1}/{epochs}, Loss: {avg_loss:.4f}')\n",
        "\n",
        "    # Evaluate the model on the validation set\n",
        "    accuracy = evaluate_model(model, val_loader)\n",
        "    print(f'Validation Accuracy: {accuracy:.2f}%')\n",
        "    return model, mean, std\n",
        "\n",
        "# Function to evaluate model accuracy\n",
        "def evaluate_model(model, val_loader):\n",
        "    model.eval()\n",
        "    correct = 0\n",
        "    total = 0\n",
        "    with torch.no_grad():\n",
        "        for data, targets in val_loader:\n",
        "            data, targets = data.to(device), targets.to(device)\n",
        "            outputs = model(data)\n",
        "            _, predicted = torch.max(outputs.data, 1)\n",
        "            total += targets.size(0)\n",
        "            correct += (predicted == targets).sum().item()\n",
        "\n",
        "    accuracy = 100 * correct / total\n",
        "    return accuracy\n",
        "\n",
        "def evaluate_on_test_set(model, X_test, y_test, mean, std, batch_size=64):\n",
        "    # Convert the test data to a PyTorch Tensor and normalize it using the mean and standard deviation of the training set\n",
        "    X_test_tensor = torch.tensor(X_test, dtype=torch.float32).unsqueeze(1)\n",
        "    X_test_tensor = (X_test_tensor - mean) / std  # Normalize using the mean and standard deviation of the training set\n",
        "    y_test_tensor = torch.tensor(y_test, dtype=torch.long)\n",
        "\n",
        "    test_dataset = TensorDataset(X_test_tensor, y_test_tensor)\n",
        "    test_loader = DataLoader(dataset=test_dataset, batch_size=batch_size, shuffle=False)\n",
        "\n",
        "    model.eval()\n",
        "    correct = 0\n",
        "    total = 0\n",
        "    with torch.no_grad():\n",
        "        for data, targets in test_loader:\n",
        "            data, targets = data.to(device), targets.to(device)\n",
        "            outputs = model(data)\n",
        "            _, predicted = torch.max(outputs.data, 1)\n",
        "            total += targets.size(0)\n",
        "            correct += (predicted == targets).sum().item()\n",
        "\n",
        "    accuracy = 100 * correct / total\n",
        "    print(f\"Test Accuracy: {accuracy:.2f}%\")\n",
        "    return accuracy\n",
        "\n",
        "# Main function to train multiple times and calculate mean accuracy and standard deviation\n",
        "def train_multiple_times_with_test(model_class, X, y, X_test, y_test, num_trials=10, epochs=10):\n",
        "    test_accuracy_list = []\n",
        "\n",
        "    for trial in range(num_trials):\n",
        "        print(f\"\\nTrial {trial+1}/{num_trials}\")\n",
        "        # Train the model and get the mean and standard deviation of the training data\n",
        "        model, mean, std = train_and_evaluate(model_class, X, y, epochs=epochs)\n",
        "        # Evaluate the model on the test set using the mean and standard deviation of the training set\n",
        "        test_accuracy = evaluate_on_test_set(model, X_test, y_test, mean, std)\n",
        "        test_accuracy_list.append(test_accuracy)\n",
        "        print(f\"Trial {trial+1} Test Accuracy: {test_accuracy:.2f}%\")\n",
        "\n",
        "    mean_test_accuracy = np.mean(test_accuracy_list)\n",
        "    std_test_accuracy = np.std(test_accuracy_list)\n",
        "\n",
        "    print(f\"\\nAverage Test Accuracy after {num_trials} trials: {mean_test_accuracy:.2f}%\")\n",
        "    print(f\"Standard Deviation of Test Accuracy: {std_test_accuracy:.2f}%\")\n",
        "\n",
        "    return mean_test_accuracy, std_test_accuracy"
      ],
      "metadata": {
        "id": "oDn5KFy3D9o1"
      },
      "execution_count": 54,
      "outputs": []
    },
    {
      "cell_type": "markdown",
      "source": [
        "##### Training on the FashionMNIST0.3 dataset"
      ],
      "metadata": {
        "id": "iuKzCG7TRWYc"
      }
    },
    {
      "cell_type": "code",
      "source": [
        "mean_test_accuracy, std_test_accuracy = train_multiple_times_with_test(CNN28x28, Xtr_F3, Str_F3, Xts_F3, Yts_F3, num_trials=10, epochs=5)"
      ],
      "metadata": {
        "colab": {
          "base_uri": "https://localhost:8080/"
        },
        "id": "ShMk7gbsHQG5",
        "outputId": "426d652d-5642-4edc-93d4-f4b5d6f7c8e9"
      },
      "execution_count": null,
      "outputs": [
        {
          "output_type": "stream",
          "name": "stdout",
          "text": [
            "\n",
            "Trial 1/10\n",
            "X_train shape: (19200, 28, 28)\n",
            "y_train shape: (19200,)\n",
            "Unique labels in y_train: [0 1 2 3]\n",
            "Epoch 1/5, Loss: 0.7866\n",
            "Epoch 2/5, Loss: 0.7084\n",
            "Epoch 3/5, Loss: 0.6883\n",
            "Epoch 4/5, Loss: 0.6749\n",
            "Epoch 5/5, Loss: 0.6556\n",
            "Validation Accuracy: 66.50%\n",
            "Test Accuracy: 94.88%\n",
            "Trial 1 Test Accuracy: 94.88%\n",
            "\n",
            "Trial 2/10\n",
            "X_train shape: (19200, 28, 28)\n",
            "y_train shape: (19200,)\n",
            "Unique labels in y_train: [0 1 2 3]\n",
            "Epoch 1/5, Loss: 0.7897\n",
            "Epoch 2/5, Loss: 0.7142\n",
            "Epoch 3/5, Loss: 0.6922\n",
            "Epoch 4/5, Loss: 0.6789\n",
            "Epoch 5/5, Loss: 0.6630\n",
            "Validation Accuracy: 67.83%\n",
            "Test Accuracy: 95.38%\n",
            "Trial 2 Test Accuracy: 95.38%\n",
            "\n",
            "Trial 3/10\n",
            "X_train shape: (19200, 28, 28)\n",
            "y_train shape: (19200,)\n",
            "Unique labels in y_train: [0 1 2 3]\n",
            "Epoch 1/5, Loss: 0.7950\n",
            "Epoch 2/5, Loss: 0.7129\n",
            "Epoch 3/5, Loss: 0.6940\n",
            "Epoch 4/5, Loss: 0.6729\n",
            "Epoch 5/5, Loss: 0.6595\n",
            "Validation Accuracy: 66.77%\n",
            "Test Accuracy: 93.85%\n",
            "Trial 3 Test Accuracy: 93.85%\n",
            "\n",
            "Trial 4/10\n",
            "X_train shape: (19200, 28, 28)\n",
            "y_train shape: (19200,)\n",
            "Unique labels in y_train: [0 1 2 3]\n",
            "Epoch 1/5, Loss: 0.7888\n",
            "Epoch 2/5, Loss: 0.7126\n",
            "Epoch 3/5, Loss: 0.6925\n",
            "Epoch 4/5, Loss: 0.6764\n",
            "Epoch 5/5, Loss: 0.6614\n",
            "Validation Accuracy: 67.90%\n",
            "Test Accuracy: 95.22%\n",
            "Trial 4 Test Accuracy: 95.22%\n",
            "\n",
            "Trial 5/10\n",
            "X_train shape: (19200, 28, 28)\n",
            "y_train shape: (19200,)\n",
            "Unique labels in y_train: [0 1 2 3]\n",
            "Epoch 1/5, Loss: 0.7898\n",
            "Epoch 2/5, Loss: 0.7115\n",
            "Epoch 3/5, Loss: 0.6906\n",
            "Epoch 4/5, Loss: 0.6753\n",
            "Epoch 5/5, Loss: 0.6615\n",
            "Validation Accuracy: 68.90%\n",
            "Test Accuracy: 95.55%\n",
            "Trial 5 Test Accuracy: 95.55%\n",
            "\n",
            "Trial 6/10\n",
            "X_train shape: (19200, 28, 28)\n",
            "y_train shape: (19200,)\n",
            "Unique labels in y_train: [0 1 2 3]\n",
            "Epoch 1/5, Loss: 0.8015\n",
            "Epoch 2/5, Loss: 0.7137\n",
            "Epoch 3/5, Loss: 0.6922\n",
            "Epoch 4/5, Loss: 0.6738\n",
            "Epoch 5/5, Loss: 0.6576\n",
            "Validation Accuracy: 66.75%\n",
            "Test Accuracy: 93.97%\n",
            "Trial 6 Test Accuracy: 93.97%\n",
            "\n",
            "Trial 7/10\n",
            "X_train shape: (19200, 28, 28)\n",
            "y_train shape: (19200,)\n",
            "Unique labels in y_train: [0 1 2 3]\n",
            "Epoch 1/5, Loss: 0.8195\n",
            "Epoch 2/5, Loss: 0.7213\n",
            "Epoch 3/5, Loss: 0.6985\n",
            "Epoch 4/5, Loss: 0.6816\n",
            "Epoch 5/5, Loss: 0.6676\n",
            "Validation Accuracy: 67.15%\n",
            "Test Accuracy: 93.97%\n",
            "Trial 7 Test Accuracy: 93.97%\n",
            "\n",
            "Trial 8/10\n",
            "X_train shape: (19200, 28, 28)\n",
            "y_train shape: (19200,)\n",
            "Unique labels in y_train: [0 1 2 3]\n",
            "Epoch 1/5, Loss: 0.8013\n",
            "Epoch 2/5, Loss: 0.7100\n",
            "Epoch 3/5, Loss: 0.6880\n",
            "Epoch 4/5, Loss: 0.6733\n",
            "Epoch 5/5, Loss: 0.6579\n",
            "Validation Accuracy: 66.60%\n",
            "Test Accuracy: 94.08%\n",
            "Trial 8 Test Accuracy: 94.08%\n",
            "\n",
            "Trial 9/10\n",
            "X_train shape: (19200, 28, 28)\n",
            "y_train shape: (19200,)\n",
            "Unique labels in y_train: [0 1 2 3]\n",
            "Epoch 1/5, Loss: 0.7954\n",
            "Epoch 2/5, Loss: 0.7119\n",
            "Epoch 3/5, Loss: 0.6908\n",
            "Epoch 4/5, Loss: 0.6754\n",
            "Epoch 5/5, Loss: 0.6563\n",
            "Validation Accuracy: 67.48%\n",
            "Test Accuracy: 94.67%\n",
            "Trial 9 Test Accuracy: 94.67%\n",
            "\n",
            "Trial 10/10\n",
            "X_train shape: (19200, 28, 28)\n",
            "y_train shape: (19200,)\n",
            "Unique labels in y_train: [0 1 2 3]\n",
            "Epoch 1/5, Loss: 0.7826\n",
            "Epoch 2/5, Loss: 0.7057\n",
            "Epoch 3/5, Loss: 0.6864\n",
            "Epoch 4/5, Loss: 0.6706\n",
            "Epoch 5/5, Loss: 0.6522\n",
            "Validation Accuracy: 64.92%\n",
            "Test Accuracy: 92.67%\n",
            "Trial 10 Test Accuracy: 92.67%\n",
            "\n",
            "Average Test Accuracy after 10 trials: 94.42%\n",
            "Standard Deviation of Test Accuracy: 0.84%\n"
          ]
        }
      ]
    },
    {
      "cell_type": "markdown",
      "source": [
        "##### Training on the FashionMNIST0.6 dataset"
      ],
      "metadata": {
        "id": "-vJJ4veXRZZp"
      }
    },
    {
      "cell_type": "code",
      "source": [
        "mean_test_accuracy, std_test_accuracy = train_multiple_times_with_test(CNN28x28, Xtr_F6, Str_F6, Xts_F6, Yts_F6, num_trials=10, epochs=5)"
      ],
      "metadata": {
        "colab": {
          "base_uri": "https://localhost:8080/"
        },
        "id": "uXGAT9Q2EXgB",
        "outputId": "e545abca-25c3-438f-f6e5-e3f5f717f773"
      },
      "execution_count": null,
      "outputs": [
        {
          "output_type": "stream",
          "name": "stdout",
          "text": [
            "\n",
            "Trial 1/10\n",
            "X_train shape: (19200, 28, 28)\n",
            "y_train shape: (19200,)\n",
            "Unique labels in y_train: [0 1 2 3]\n",
            "Epoch 1/5, Loss: 1.3600\n",
            "Epoch 2/5, Loss: 1.3468\n",
            "Epoch 3/5, Loss: 1.3434\n",
            "Epoch 4/5, Loss: 1.3401\n",
            "Epoch 5/5, Loss: 1.3364\n",
            "Validation Accuracy: 37.62%\n",
            "Test Accuracy: 91.12%\n",
            "Trial 1 Test Accuracy: 91.12%\n",
            "\n",
            "Trial 2/10\n",
            "X_train shape: (19200, 28, 28)\n",
            "y_train shape: (19200,)\n",
            "Unique labels in y_train: [0 1 2 3]\n",
            "Epoch 1/5, Loss: 1.3610\n",
            "Epoch 2/5, Loss: 1.3491\n",
            "Epoch 3/5, Loss: 1.3447\n",
            "Epoch 4/5, Loss: 1.3411\n",
            "Epoch 5/5, Loss: 1.3368\n",
            "Validation Accuracy: 38.31%\n",
            "Test Accuracy: 90.95%\n",
            "Trial 2 Test Accuracy: 90.95%\n",
            "\n",
            "Trial 3/10\n",
            "X_train shape: (19200, 28, 28)\n",
            "y_train shape: (19200,)\n",
            "Unique labels in y_train: [0 1 2 3]\n",
            "Epoch 1/5, Loss: 1.3558\n",
            "Epoch 2/5, Loss: 1.3464\n",
            "Epoch 3/5, Loss: 1.3424\n",
            "Epoch 4/5, Loss: 1.3387\n",
            "Epoch 5/5, Loss: 1.3330\n",
            "Validation Accuracy: 37.27%\n",
            "Test Accuracy: 90.70%\n",
            "Trial 3 Test Accuracy: 90.70%\n",
            "\n",
            "Trial 4/10\n",
            "X_train shape: (19200, 28, 28)\n",
            "y_train shape: (19200,)\n",
            "Unique labels in y_train: [0 1 2 3]\n",
            "Epoch 1/5, Loss: 1.3655\n",
            "Epoch 2/5, Loss: 1.3485\n",
            "Epoch 3/5, Loss: 1.3452\n",
            "Epoch 4/5, Loss: 1.3439\n",
            "Epoch 5/5, Loss: 1.3398\n",
            "Validation Accuracy: 38.46%\n",
            "Test Accuracy: 90.72%\n",
            "Trial 4 Test Accuracy: 90.72%\n",
            "\n",
            "Trial 5/10\n",
            "X_train shape: (19200, 28, 28)\n",
            "y_train shape: (19200,)\n",
            "Unique labels in y_train: [0 1 2 3]\n",
            "Epoch 1/5, Loss: 1.3630\n",
            "Epoch 2/5, Loss: 1.3475\n",
            "Epoch 3/5, Loss: 1.3441\n",
            "Epoch 4/5, Loss: 1.3421\n",
            "Epoch 5/5, Loss: 1.3386\n",
            "Validation Accuracy: 37.94%\n",
            "Test Accuracy: 92.35%\n",
            "Trial 5 Test Accuracy: 92.35%\n",
            "\n",
            "Trial 6/10\n",
            "X_train shape: (19200, 28, 28)\n",
            "y_train shape: (19200,)\n",
            "Unique labels in y_train: [0 1 2 3]\n",
            "Epoch 1/5, Loss: 1.3602\n",
            "Epoch 2/5, Loss: 1.3470\n",
            "Epoch 3/5, Loss: 1.3453\n",
            "Epoch 4/5, Loss: 1.3413\n",
            "Epoch 5/5, Loss: 1.3379\n",
            "Validation Accuracy: 38.19%\n",
            "Test Accuracy: 91.53%\n",
            "Trial 6 Test Accuracy: 91.53%\n",
            "\n",
            "Trial 7/10\n",
            "X_train shape: (19200, 28, 28)\n",
            "y_train shape: (19200,)\n",
            "Unique labels in y_train: [0 1 2 3]\n",
            "Epoch 1/5, Loss: 1.3593\n",
            "Epoch 2/5, Loss: 1.3465\n",
            "Epoch 3/5, Loss: 1.3432\n",
            "Epoch 4/5, Loss: 1.3405\n",
            "Epoch 5/5, Loss: 1.3364\n",
            "Validation Accuracy: 37.29%\n",
            "Test Accuracy: 91.60%\n",
            "Trial 7 Test Accuracy: 91.60%\n",
            "\n",
            "Trial 8/10\n",
            "X_train shape: (19200, 28, 28)\n",
            "y_train shape: (19200,)\n",
            "Unique labels in y_train: [0 1 2 3]\n",
            "Epoch 1/5, Loss: 1.3628\n",
            "Epoch 2/5, Loss: 1.3486\n",
            "Epoch 3/5, Loss: 1.3445\n",
            "Epoch 4/5, Loss: 1.3406\n",
            "Epoch 5/5, Loss: 1.3377\n",
            "Validation Accuracy: 38.46%\n",
            "Test Accuracy: 91.00%\n",
            "Trial 8 Test Accuracy: 91.00%\n",
            "\n",
            "Trial 9/10\n",
            "X_train shape: (19200, 28, 28)\n",
            "y_train shape: (19200,)\n",
            "Unique labels in y_train: [0 1 2 3]\n",
            "Epoch 1/5, Loss: 1.3642\n",
            "Epoch 2/5, Loss: 1.3485\n",
            "Epoch 3/5, Loss: 1.3449\n",
            "Epoch 4/5, Loss: 1.3426\n",
            "Epoch 5/5, Loss: 1.3382\n",
            "Validation Accuracy: 38.92%\n",
            "Test Accuracy: 91.95%\n",
            "Trial 9 Test Accuracy: 91.95%\n",
            "\n",
            "Trial 10/10\n",
            "X_train shape: (19200, 28, 28)\n",
            "y_train shape: (19200,)\n",
            "Unique labels in y_train: [0 1 2 3]\n",
            "Epoch 1/5, Loss: 1.3582\n",
            "Epoch 2/5, Loss: 1.3460\n",
            "Epoch 3/5, Loss: 1.3432\n",
            "Epoch 4/5, Loss: 1.3401\n",
            "Epoch 5/5, Loss: 1.3373\n",
            "Validation Accuracy: 38.65%\n",
            "Test Accuracy: 92.05%\n",
            "Trial 10 Test Accuracy: 92.05%\n",
            "\n",
            "Average Test Accuracy after 10 trials: 91.40%\n",
            "Standard Deviation of Test Accuracy: 0.55%\n"
          ]
        }
      ]
    },
    {
      "cell_type": "markdown",
      "source": [
        "#### 2.1.1 CNN with transition matrix for FashionMNIST0.6 and FashionMNIST0.3"
      ],
      "metadata": {
        "id": "YteHhudBMHAU"
      }
    },
    {
      "cell_type": "code",
      "source": [
        "# Define the loss function with the transformation matrix\n",
        "def noisy_loss_function(preds, targets, transition_matrix):\n",
        "    T = torch.tensor(transition_matrix, dtype=torch.float32).to(preds.device)\n",
        "    # Model's log probabilities for true labels\n",
        "    log_probs = F.log_softmax(preds, dim=1)\n",
        "    # Compute the loss considering the transition matrix\n",
        "    loss = -torch.mean(torch.sum(T[targets] * log_probs, dim=1))\n",
        "    return loss\n",
        "\n",
        "def train_and_evaluate(model_class, X, y, transition_matrix, epochs=10, batch_size=64):\n",
        "    X_train, X_val, y_train, y_val = train_test_split(X, y, test_size=0.2)\n",
        "    print(\"X_train shape:\", X_train.shape)\n",
        "    print(\"y_train shape:\", y_train.shape)\n",
        "    print(\"Unique labels in y_train:\", np.unique(y_train))\n",
        "\n",
        "    # Convert data to PyTorch Tensor\n",
        "    X_train_tensor = torch.tensor(X_train, dtype=torch.float32).unsqueeze(1)\n",
        "    y_train_tensor = torch.tensor(y_train, dtype=torch.long)\n",
        "    X_val_tensor = torch.tensor(X_val, dtype=torch.float32).unsqueeze(1)\n",
        "    y_val_tensor = torch.tensor(y_val, dtype=torch.long)\n",
        "\n",
        "    # Calculate mean and standard deviation from training data\n",
        "    mean = X_train_tensor.mean()\n",
        "    std = X_train_tensor.std()\n",
        "\n",
        "    # Normalize the training and validation data using the mean and standard deviation of the training set\n",
        "    X_train_tensor = (X_train_tensor - mean) / std\n",
        "    X_val_tensor = (X_val_tensor - mean) / std\n",
        "\n",
        "    train_dataset = TensorDataset(X_train_tensor, y_train_tensor)\n",
        "    val_dataset = TensorDataset(X_val_tensor, y_val_tensor)\n",
        "\n",
        "    train_loader = DataLoader(dataset=train_dataset, batch_size=batch_size, shuffle=True)\n",
        "    val_loader = DataLoader(dataset=val_dataset, batch_size=batch_size, shuffle=False)\n",
        "\n",
        "    model = model_class().to(device)\n",
        "    optimizer = optim.Adam(model.parameters(), lr=0.001)\n",
        "\n",
        "    for epoch in range(epochs):\n",
        "        model.train()\n",
        "        total_loss = 0\n",
        "        for data, targets in train_loader:\n",
        "            data, targets = data.to(device), targets.to(device)\n",
        "\n",
        "            outputs = model(data)\n",
        "            loss = noisy_loss_function(outputs, targets, transition_matrix)\n",
        "\n",
        "            optimizer.zero_grad()\n",
        "            loss.backward()\n",
        "            optimizer.step()\n",
        "\n",
        "            total_loss += loss.item()\n",
        "\n",
        "        avg_loss = total_loss / len(train_loader)\n",
        "        print(f'Epoch {epoch+1}/{epochs}, Loss: {avg_loss:.4f}')\n",
        "\n",
        "    # Evaluate the model on the validation set\n",
        "    accuracy = evaluate_model(model, val_loader)\n",
        "    print(f'Validation Accuracy: {accuracy:.2f}%')\n",
        "    return model, mean, std\n",
        "def train_multiple_times_with_test_withT(model_class, X, y, X_test, y_test, transition_matrix, num_trials=10, epochs=10):\n",
        "    test_accuracy_list = []\n",
        "\n",
        "    for trial in range(num_trials):\n",
        "        print(f\"\\nTrial {trial+1}/{num_trials}\")\n",
        "        # Train the model and get the mean and standard deviation of the training data\n",
        "        model, mean, std = train_and_evaluate(model_class, X, y, transition_matrix, epochs=epochs)\n",
        "        # Evaluate the model on the test set using the mean and standard deviation of the training set\n",
        "        test_accuracy = evaluate_on_test_set(model, X_test, y_test, mean, std)\n",
        "        test_accuracy_list.append(test_accuracy)\n",
        "        print(f\"Trial {trial+1} Test Accuracy: {test_accuracy:.2f}%\")\n",
        "\n",
        "    mean_test_accuracy = np.mean(test_accuracy_list)\n",
        "    std_test_accuracy = np.std(test_accuracy_list)\n",
        "\n",
        "    print(f\"\\nAverage Test Accuracy after {num_trials} trials: {mean_test_accuracy:.2f}%\")\n",
        "    print(f\"Standard Deviation of Test Accuracy: {std_test_accuracy:.2f}%\")\n",
        "\n",
        "    return mean_test_accuracy, std_test_accuracy"
      ],
      "metadata": {
        "id": "hnXRZE0hxAts"
      },
      "execution_count": 57,
      "outputs": []
    },
    {
      "cell_type": "markdown",
      "source": [
        "##### Training on the FashionMNIST0.3 dataset"
      ],
      "metadata": {
        "id": "0RBioTRALjBb"
      }
    },
    {
      "cell_type": "code",
      "source": [
        "# Training on the FashionMNIST0.3 dataset\n",
        "mean_test_accuracy_03, std_test_accuracy_03 = train_multiple_times_with_test_withT(\n",
        "    CNN28x28, Xtr_F3, Str_F3, Xts_F3, Yts_F3, transition_matrix_FashionMNIST03, num_trials=10, epochs=5\n",
        ")"
      ],
      "metadata": {
        "colab": {
          "base_uri": "https://localhost:8080/"
        },
        "id": "jwyINPOU2NxS",
        "outputId": "682e6522-02a1-45ec-8fc3-b4a85efe86ff"
      },
      "execution_count": null,
      "outputs": [
        {
          "output_type": "stream",
          "name": "stdout",
          "text": [
            "\n",
            "Trial 1/10\n",
            "X_train shape: (19200, 28, 28)\n",
            "y_train shape: (19200,)\n",
            "Unique labels in y_train: [0 1 2 3]\n",
            "Epoch 1/5, Loss: 1.0506\n",
            "Epoch 2/5, Loss: 0.9936\n",
            "Epoch 3/5, Loss: 0.9810\n",
            "Epoch 4/5, Loss: 0.9725\n",
            "Epoch 5/5, Loss: 0.9653\n",
            "Validation Accuracy: 54.73%\n",
            "Test Accuracy: 66.90%\n",
            "Trial 1 Test Accuracy: 66.90%\n",
            "\n",
            "Trial 2/10\n",
            "X_train shape: (19200, 28, 28)\n",
            "y_train shape: (19200,)\n",
            "Unique labels in y_train: [0 1 2 3]\n",
            "Epoch 1/5, Loss: 1.0355\n",
            "Epoch 2/5, Loss: 0.9918\n",
            "Epoch 3/5, Loss: 0.9788\n",
            "Epoch 4/5, Loss: 0.9702\n",
            "Epoch 5/5, Loss: 0.9625\n",
            "Validation Accuracy: 60.29%\n",
            "Test Accuracy: 78.05%\n",
            "Trial 2 Test Accuracy: 78.05%\n",
            "\n",
            "Trial 3/10\n",
            "X_train shape: (19200, 28, 28)\n",
            "y_train shape: (19200,)\n",
            "Unique labels in y_train: [0 1 2 3]\n",
            "Epoch 1/5, Loss: 1.0460\n",
            "Epoch 2/5, Loss: 0.9933\n",
            "Epoch 3/5, Loss: 0.9811\n",
            "Epoch 4/5, Loss: 0.9729\n",
            "Epoch 5/5, Loss: 0.9644\n",
            "Validation Accuracy: 63.04%\n",
            "Test Accuracy: 82.83%\n",
            "Trial 3 Test Accuracy: 82.83%\n",
            "\n",
            "Trial 4/10\n",
            "X_train shape: (19200, 28, 28)\n",
            "y_train shape: (19200,)\n",
            "Unique labels in y_train: [0 1 2 3]\n",
            "Epoch 1/5, Loss: 1.0480\n",
            "Epoch 2/5, Loss: 0.9926\n",
            "Epoch 3/5, Loss: 0.9806\n",
            "Epoch 4/5, Loss: 0.9699\n",
            "Epoch 5/5, Loss: 0.9623\n",
            "Validation Accuracy: 63.62%\n",
            "Test Accuracy: 83.15%\n",
            "Trial 4 Test Accuracy: 83.15%\n",
            "\n",
            "Trial 5/10\n",
            "X_train shape: (19200, 28, 28)\n",
            "y_train shape: (19200,)\n",
            "Unique labels in y_train: [0 1 2 3]\n",
            "Epoch 1/5, Loss: 1.0508\n",
            "Epoch 2/5, Loss: 0.9925\n",
            "Epoch 3/5, Loss: 0.9809\n",
            "Epoch 4/5, Loss: 0.9729\n",
            "Epoch 5/5, Loss: 0.9659\n",
            "Validation Accuracy: 65.38%\n",
            "Test Accuracy: 90.17%\n",
            "Trial 5 Test Accuracy: 90.17%\n",
            "\n",
            "Trial 6/10\n",
            "X_train shape: (19200, 28, 28)\n",
            "y_train shape: (19200,)\n",
            "Unique labels in y_train: [0 1 2 3]\n",
            "Epoch 1/5, Loss: 1.0404\n",
            "Epoch 2/5, Loss: 0.9935\n",
            "Epoch 3/5, Loss: 0.9795\n",
            "Epoch 4/5, Loss: 0.9736\n",
            "Epoch 5/5, Loss: 0.9664\n",
            "Validation Accuracy: 59.71%\n",
            "Test Accuracy: 73.70%\n",
            "Trial 6 Test Accuracy: 73.70%\n",
            "\n",
            "Trial 7/10\n",
            "X_train shape: (19200, 28, 28)\n",
            "y_train shape: (19200,)\n",
            "Unique labels in y_train: [0 1 2 3]\n",
            "Epoch 1/5, Loss: 1.0426\n",
            "Epoch 2/5, Loss: 0.9931\n",
            "Epoch 3/5, Loss: 0.9807\n",
            "Epoch 4/5, Loss: 0.9715\n",
            "Epoch 5/5, Loss: 0.9632\n",
            "Validation Accuracy: 60.35%\n",
            "Test Accuracy: 77.70%\n",
            "Trial 7 Test Accuracy: 77.70%\n",
            "\n",
            "Trial 8/10\n",
            "X_train shape: (19200, 28, 28)\n",
            "y_train shape: (19200,)\n",
            "Unique labels in y_train: [0 1 2 3]\n",
            "Epoch 1/5, Loss: 1.0405\n",
            "Epoch 2/5, Loss: 0.9906\n",
            "Epoch 3/5, Loss: 0.9784\n",
            "Epoch 4/5, Loss: 0.9695\n",
            "Epoch 5/5, Loss: 0.9603\n",
            "Validation Accuracy: 63.25%\n",
            "Test Accuracy: 85.55%\n",
            "Trial 8 Test Accuracy: 85.55%\n",
            "\n",
            "Trial 9/10\n",
            "X_train shape: (19200, 28, 28)\n",
            "y_train shape: (19200,)\n",
            "Unique labels in y_train: [0 1 2 3]\n",
            "Epoch 1/5, Loss: 1.0377\n",
            "Epoch 2/5, Loss: 0.9949\n",
            "Epoch 3/5, Loss: 0.9818\n",
            "Epoch 4/5, Loss: 0.9714\n",
            "Epoch 5/5, Loss: 0.9613\n",
            "Validation Accuracy: 66.17%\n",
            "Test Accuracy: 90.45%\n",
            "Trial 9 Test Accuracy: 90.45%\n",
            "\n",
            "Trial 10/10\n",
            "X_train shape: (19200, 28, 28)\n",
            "y_train shape: (19200,)\n",
            "Unique labels in y_train: [0 1 2 3]\n",
            "Epoch 1/5, Loss: 1.0447\n",
            "Epoch 2/5, Loss: 0.9957\n",
            "Epoch 3/5, Loss: 0.9810\n",
            "Epoch 4/5, Loss: 0.9717\n",
            "Epoch 5/5, Loss: 0.9631\n",
            "Validation Accuracy: 58.33%\n",
            "Test Accuracy: 71.33%\n",
            "Trial 10 Test Accuracy: 71.33%\n",
            "\n",
            "Average Test Accuracy after 10 trials: 79.98%\n",
            "Standard Deviation of Test Accuracy: 7.46%\n"
          ]
        }
      ]
    },
    {
      "cell_type": "markdown",
      "source": [
        "##### Training on the FashionMNIST0.6 dataset"
      ],
      "metadata": {
        "id": "CWIZxZToMRmF"
      }
    },
    {
      "cell_type": "code",
      "source": [
        "# Training on the FashionMNIST0.6 dataset\n",
        "mean_test_accuracy_06, std_test_accuracy_06 = train_multiple_times_with_test_withT(\n",
        "    CNN28x28, Xtr_F6, Str_F6, Xts_F6, Yts_F6, transition_matrix_FashionMNIST06, num_trials=10, epochs=5\n",
        ")"
      ],
      "metadata": {
        "colab": {
          "base_uri": "https://localhost:8080/"
        },
        "id": "BEd3-cK4m7cq",
        "outputId": "c40c80bc-4e7c-4203-8aeb-9371008642b9"
      },
      "execution_count": null,
      "outputs": [
        {
          "output_type": "stream",
          "name": "stdout",
          "text": [
            "\n",
            "Trial 1/10\n",
            "X_train shape: (19200, 28, 28)\n",
            "y_train shape: (19200,)\n",
            "Unique labels in y_train: [0 1 2 3]\n",
            "Epoch 1/5, Loss: 1.3868\n",
            "Epoch 2/5, Loss: 1.3847\n",
            "Epoch 3/5, Loss: 1.3845\n",
            "Epoch 4/5, Loss: 1.3843\n",
            "Epoch 5/5, Loss: 1.3841\n",
            "Validation Accuracy: 38.21%\n",
            "Test Accuracy: 91.35%\n",
            "Trial 1 Test Accuracy: 91.35%\n",
            "\n",
            "Trial 2/10\n",
            "X_train shape: (19200, 28, 28)\n",
            "y_train shape: (19200,)\n",
            "Unique labels in y_train: [0 1 2 3]\n",
            "Epoch 1/5, Loss: 1.3867\n",
            "Epoch 2/5, Loss: 1.3846\n",
            "Epoch 3/5, Loss: 1.3845\n",
            "Epoch 4/5, Loss: 1.3843\n",
            "Epoch 5/5, Loss: 1.3842\n",
            "Validation Accuracy: 38.15%\n",
            "Test Accuracy: 90.10%\n",
            "Trial 2 Test Accuracy: 90.10%\n",
            "\n",
            "Trial 3/10\n",
            "X_train shape: (19200, 28, 28)\n",
            "y_train shape: (19200,)\n",
            "Unique labels in y_train: [0 1 2 3]\n",
            "Epoch 1/5, Loss: 1.3870\n",
            "Epoch 2/5, Loss: 1.3847\n",
            "Epoch 3/5, Loss: 1.3845\n",
            "Epoch 4/5, Loss: 1.3844\n",
            "Epoch 5/5, Loss: 1.3843\n",
            "Validation Accuracy: 37.77%\n",
            "Test Accuracy: 90.50%\n",
            "Trial 3 Test Accuracy: 90.50%\n",
            "\n",
            "Trial 4/10\n",
            "X_train shape: (19200, 28, 28)\n",
            "y_train shape: (19200,)\n",
            "Unique labels in y_train: [0 1 2 3]\n",
            "Epoch 1/5, Loss: 1.3858\n",
            "Epoch 2/5, Loss: 1.3848\n",
            "Epoch 3/5, Loss: 1.3846\n",
            "Epoch 4/5, Loss: 1.3845\n",
            "Epoch 5/5, Loss: 1.3844\n",
            "Validation Accuracy: 38.19%\n",
            "Test Accuracy: 87.95%\n",
            "Trial 4 Test Accuracy: 87.95%\n",
            "\n",
            "Trial 5/10\n",
            "X_train shape: (19200, 28, 28)\n",
            "y_train shape: (19200,)\n",
            "Unique labels in y_train: [0 1 2 3]\n",
            "Epoch 1/5, Loss: 1.3873\n",
            "Epoch 2/5, Loss: 1.3846\n",
            "Epoch 3/5, Loss: 1.3843\n",
            "Epoch 4/5, Loss: 1.3841\n",
            "Epoch 5/5, Loss: 1.3839\n",
            "Validation Accuracy: 36.23%\n",
            "Test Accuracy: 88.10%\n",
            "Trial 5 Test Accuracy: 88.10%\n",
            "\n",
            "Trial 6/10\n",
            "X_train shape: (19200, 28, 28)\n",
            "y_train shape: (19200,)\n",
            "Unique labels in y_train: [0 1 2 3]\n",
            "Epoch 1/5, Loss: 1.3870\n",
            "Epoch 2/5, Loss: 1.3847\n",
            "Epoch 3/5, Loss: 1.3846\n",
            "Epoch 4/5, Loss: 1.3844\n",
            "Epoch 5/5, Loss: 1.3843\n",
            "Validation Accuracy: 38.85%\n",
            "Test Accuracy: 89.80%\n",
            "Trial 6 Test Accuracy: 89.80%\n",
            "\n",
            "Trial 7/10\n",
            "X_train shape: (19200, 28, 28)\n",
            "y_train shape: (19200,)\n",
            "Unique labels in y_train: [0 1 2 3]\n",
            "Epoch 1/5, Loss: 1.3875\n",
            "Epoch 2/5, Loss: 1.3847\n",
            "Epoch 3/5, Loss: 1.3845\n",
            "Epoch 4/5, Loss: 1.3844\n",
            "Epoch 5/5, Loss: 1.3842\n",
            "Validation Accuracy: 38.81%\n",
            "Test Accuracy: 90.47%\n",
            "Trial 7 Test Accuracy: 90.47%\n",
            "\n",
            "Trial 8/10\n",
            "X_train shape: (19200, 28, 28)\n",
            "y_train shape: (19200,)\n",
            "Unique labels in y_train: [0 1 2 3]\n",
            "Epoch 1/5, Loss: 1.3878\n",
            "Epoch 2/5, Loss: 1.3848\n",
            "Epoch 3/5, Loss: 1.3846\n",
            "Epoch 4/5, Loss: 1.3844\n",
            "Epoch 5/5, Loss: 1.3843\n",
            "Validation Accuracy: 39.42%\n",
            "Test Accuracy: 90.17%\n",
            "Trial 8 Test Accuracy: 90.17%\n",
            "\n",
            "Trial 9/10\n",
            "X_train shape: (19200, 28, 28)\n",
            "y_train shape: (19200,)\n",
            "Unique labels in y_train: [0 1 2 3]\n",
            "Epoch 1/5, Loss: 1.3871\n",
            "Epoch 2/5, Loss: 1.3847\n",
            "Epoch 3/5, Loss: 1.3844\n",
            "Epoch 4/5, Loss: 1.3843\n",
            "Epoch 5/5, Loss: 1.3841\n",
            "Validation Accuracy: 38.29%\n",
            "Test Accuracy: 89.90%\n",
            "Trial 9 Test Accuracy: 89.90%\n",
            "\n",
            "Trial 10/10\n",
            "X_train shape: (19200, 28, 28)\n",
            "y_train shape: (19200,)\n",
            "Unique labels in y_train: [0 1 2 3]\n",
            "Epoch 1/5, Loss: 1.3867\n",
            "Epoch 2/5, Loss: 1.3848\n",
            "Epoch 3/5, Loss: 1.3846\n",
            "Epoch 4/5, Loss: 1.3845\n",
            "Epoch 5/5, Loss: 1.3843\n",
            "Validation Accuracy: 39.33%\n",
            "Test Accuracy: 91.10%\n",
            "Trial 10 Test Accuracy: 91.10%\n",
            "\n",
            "Average Test Accuracy after 10 trials: 89.94%\n",
            "Standard Deviation of Test Accuracy: 1.07%\n"
          ]
        }
      ]
    },
    {
      "cell_type": "markdown",
      "source": [
        "### 2.2 Logistic Regression for FashionMNIST0.6 and FashionMNIST0.3"
      ],
      "metadata": {
        "id": "ubaBOHarMVrV"
      }
    },
    {
      "cell_type": "code",
      "source": [
        "def logistic(X_tr, S_tr, X_ts, Y_ts, T1):\n",
        "    # Initialize lists to store accuracy results for validation and test sets\n",
        "    acc_valid_list = []\n",
        "    acc_test_without_T_list = []\n",
        "    acc_test_with_T_list = []\n",
        "\n",
        "    # Run multiple training and evaluation iterations\n",
        "    for i in range(10):\n",
        "        # Split the training data into training and validation sets\n",
        "        X_train, X_valid, y_train, y_valid = train_test_split(X_tr, S_tr, test_size=0.2, shuffle=True)\n",
        "\n",
        "        # Flatten the data to convert image data into a 2D matrix\n",
        "        X_train_flat = X_train.reshape(X_train.shape[0], -1)\n",
        "        X_valid_flat = X_valid.reshape(X_valid.shape[0], -1)\n",
        "        X_ts_flat = X_ts.reshape(X_ts.shape[0], -1)\n",
        "\n",
        "        # Initialize and train the LogisticRegression model\n",
        "        model = LogisticRegression()\n",
        "        model.fit(X_train_flat, y_train)\n",
        "\n",
        "        # Predict and calculate accuracy on the validation set\n",
        "        y_pred = model.predict(X_valid_flat)\n",
        "        acc_valid = accuracy_score(y_pred, y_valid)\n",
        "        acc_valid_list.append(acc_valid)\n",
        "\n",
        "        # Predict and calculate accuracy on the test set (without transition matrix)\n",
        "        y_pred = model.predict(X_ts_flat)\n",
        "        acc_test_without_T = accuracy_score(y_pred, Y_ts)\n",
        "        acc_test_without_T_list.append(acc_test_without_T)\n",
        "\n",
        "        # Calculate accuracy on the test set using the transition matrix\n",
        "        prob = model.predict_proba(X_ts_flat)\n",
        "        prob = np.dot(np.linalg.inv(T1), prob.T).T  # Apply transition matrix\n",
        "        y_pred = np.argmax(prob, axis=1)\n",
        "        acc_test_with_T = accuracy_score(y_pred, Y_ts)\n",
        "        acc_test_with_T_list.append(acc_test_with_T)\n",
        "\n",
        "        # Print accuracy for each iteration\n",
        "        print(\"Current epoch: %d, Accuracy on valid set: %.4f%%, accuracy on test set without Transition Matrix: %.4f%%, accuracy on test set with Transition Matrix: %.4f%%\"\n",
        "              % (i+1, acc_valid * 100, acc_test_without_T * 100, acc_test_with_T * 100))\n",
        "\n",
        "    # Calculate and print the mean and standard deviation for validation and test set accuracies\n",
        "    print(\"Mean on valid set: %.4f, Mean on test set without Transition Matrix: %.4f, Mean on test set with Transition Matrix: %.4f\"\n",
        "          % (np.mean(acc_valid_list), np.mean(acc_test_without_T_list), np.mean(acc_test_with_T_list)))\n",
        "\n",
        "    print(\"Std on valid set: %.4f, Std on test set without Transition Matrix: %.4f, Std on test set with Transition Matrix: %.4f\"\n",
        "          % (np.std(acc_valid_list), np.std(acc_test_without_T_list), np.std(acc_test_with_T_list)))"
      ],
      "metadata": {
        "id": "DGPAzvy3XcZp"
      },
      "execution_count": null,
      "outputs": []
    },
    {
      "cell_type": "markdown",
      "source": [
        "#### 2.2.1 Training on the FashionMNIST0.3 dataset"
      ],
      "metadata": {
        "id": "qZgx5VfUMj0p"
      }
    },
    {
      "cell_type": "code",
      "source": [
        "logistic_03 = logistic(Xtr_F3, Str_F3, Xts_F3, Yts_F3, transition_matrix_FashionMNIST03)\n",
        "logistic_03"
      ],
      "metadata": {
        "colab": {
          "base_uri": "https://localhost:8080/"
        },
        "id": "4L5Lv2eiYzhq",
        "outputId": "b3820f1a-36b2-4ace-be56-6a4134f57372"
      },
      "execution_count": null,
      "outputs": [
        {
          "output_type": "stream",
          "name": "stdout",
          "text": [
            "Current epoch: 1, Accuracy on valid set: 62.5625%, accuracy on test set without Transition Matrix: 85.2750%, accuracy on test set with Transition Matrix: 80.1250%\n",
            "Current epoch: 2, Accuracy on valid set: 62.5625%, accuracy on test set without Transition Matrix: 84.8250%, accuracy on test set with Transition Matrix: 78.9000%\n",
            "Current epoch: 3, Accuracy on valid set: 63.2500%, accuracy on test set without Transition Matrix: 84.8500%, accuracy on test set with Transition Matrix: 78.9500%\n",
            "Current epoch: 4, Accuracy on valid set: 63.2917%, accuracy on test set without Transition Matrix: 84.3250%, accuracy on test set with Transition Matrix: 79.2000%\n",
            "Current epoch: 5, Accuracy on valid set: 62.5833%, accuracy on test set without Transition Matrix: 85.0750%, accuracy on test set with Transition Matrix: 78.9250%\n",
            "Current epoch: 6, Accuracy on valid set: 63.3333%, accuracy on test set without Transition Matrix: 84.1500%, accuracy on test set with Transition Matrix: 78.4750%\n",
            "Current epoch: 7, Accuracy on valid set: 63.6667%, accuracy on test set without Transition Matrix: 85.2750%, accuracy on test set with Transition Matrix: 80.0000%\n",
            "Current epoch: 8, Accuracy on valid set: 63.6875%, accuracy on test set without Transition Matrix: 85.6250%, accuracy on test set with Transition Matrix: 80.1500%\n",
            "Current epoch: 9, Accuracy on valid set: 64.2708%, accuracy on test set without Transition Matrix: 85.5000%, accuracy on test set with Transition Matrix: 79.9000%\n",
            "Current epoch: 10, Accuracy on valid set: 63.4583%, accuracy on test set without Transition Matrix: 84.9750%, accuracy on test set with Transition Matrix: 79.8000%\n",
            "Mean on valid set: 0.6327, Mean on test set without Transition Matrix: 0.8499, Mean on test set with Transition Matrix: 0.7944\n",
            "Std on valid set: 0.0053, Std on test set without Transition Matrix: 0.0045, Std on test set with Transition Matrix: 0.0058\n"
          ]
        }
      ]
    },
    {
      "cell_type": "markdown",
      "source": [
        "#### 2.2.2 Training on the FashionMNIST0.6 dataset"
      ],
      "metadata": {
        "id": "hfYmZpYyMj2t"
      }
    },
    {
      "cell_type": "code",
      "source": [
        "logistic_06 = logistic(Xtr_F6, Str_F6, Xts_F6, Yts_F6, transition_matrix_FashionMNIST06)\n",
        "logistic_06"
      ],
      "metadata": {
        "colab": {
          "base_uri": "https://localhost:8080/"
        },
        "id": "NcGCbQemnMSG",
        "outputId": "154c45ee-c063-42ec-fc5b-696dde979d46"
      },
      "execution_count": null,
      "outputs": [
        {
          "output_type": "stream",
          "name": "stdout",
          "text": [
            "Current epoch: 1, Accuracy on valid set: 36.3125%, accuracy on test set without Transition Matrix: 78.8500%, accuracy on test set with Transition Matrix: 78.8500%\n",
            "Current epoch: 2, Accuracy on valid set: 36.0625%, accuracy on test set without Transition Matrix: 79.4750%, accuracy on test set with Transition Matrix: 79.4750%\n",
            "Current epoch: 3, Accuracy on valid set: 35.8750%, accuracy on test set without Transition Matrix: 79.6250%, accuracy on test set with Transition Matrix: 79.6250%\n",
            "Current epoch: 4, Accuracy on valid set: 35.7708%, accuracy on test set without Transition Matrix: 77.9250%, accuracy on test set with Transition Matrix: 77.9250%\n",
            "Current epoch: 5, Accuracy on valid set: 34.8958%, accuracy on test set without Transition Matrix: 79.5500%, accuracy on test set with Transition Matrix: 79.5500%\n",
            "Current epoch: 6, Accuracy on valid set: 36.1458%, accuracy on test set without Transition Matrix: 76.8500%, accuracy on test set with Transition Matrix: 76.8500%\n",
            "Current epoch: 7, Accuracy on valid set: 35.0417%, accuracy on test set without Transition Matrix: 77.8500%, accuracy on test set with Transition Matrix: 77.8500%\n",
            "Current epoch: 8, Accuracy on valid set: 35.3542%, accuracy on test set without Transition Matrix: 78.6250%, accuracy on test set with Transition Matrix: 78.6250%\n",
            "Current epoch: 9, Accuracy on valid set: 35.2708%, accuracy on test set without Transition Matrix: 75.9000%, accuracy on test set with Transition Matrix: 75.9000%\n",
            "Current epoch: 10, Accuracy on valid set: 34.6875%, accuracy on test set without Transition Matrix: 78.0750%, accuracy on test set with Transition Matrix: 78.0750%\n",
            "Mean on valid set: 0.3554, Mean on test set without Transition Matrix: 0.7827, Mean on test set with Transition Matrix: 0.7827\n",
            "Std on valid set: 0.0054, Std on test set without Transition Matrix: 0.0116, Std on test set with Transition Matrix: 0.0116\n"
          ]
        }
      ]
    },
    {
      "cell_type": "markdown",
      "source": [
        "## 3 Estimate the transition matrix for CIFAR dataset"
      ],
      "metadata": {
        "id": "nFs3HZE47dwe"
      }
    },
    {
      "cell_type": "code",
      "source": [
        "def generalized_cross_entropy(y_true, y_pred, q=0.5):\n",
        "    y_true = tf.one_hot(tf.cast(y_true, tf.int32), depth=tf.shape(y_pred)[1])\n",
        "    loss = (1 - tf.pow(tf.reduce_sum(y_true * y_pred, axis=-1), q)) / q\n",
        "    return tf.reduce_mean(loss)\n",
        "\n",
        "\n",
        "def build_robust_cnn(input_shape, num_classes):\n",
        "    model = models.Sequential([\n",
        "        layers.Conv2D(32, (3, 3), activation='relu', input_shape=input_shape),\n",
        "        layers.BatchNormalization(),\n",
        "        layers.MaxPooling2D((2, 2)),\n",
        "        layers.Dropout(0.3),\n",
        "        layers.Conv2D(64, (3, 3), activation='relu'),\n",
        "        layers.BatchNormalization(),\n",
        "        layers.MaxPooling2D((2, 2)),\n",
        "        layers.Dropout(0.3),\n",
        "        layers.Flatten(),\n",
        "        layers.Dense(64, activation='relu', kernel_regularizer=tf.keras.regularizers.l2(0.0001)),\n",
        "        layers.Dropout(0.5),\n",
        "        layers.Dense(num_classes, activation='softmax')\n",
        "    ])\n",
        "\n",
        "    model.compile(optimizer=tf.keras.optimizers.Adam(learning_rate=0.0001),\n",
        "                  loss=lambda y_true, y_pred: generalized_cross_entropy(y_true, y_pred, q=0.5),\n",
        "                  metrics=['accuracy'])\n",
        "    return model\n",
        "\n",
        "\n",
        "def analyze_confidence_distribution(X, model, num_classes):\n",
        "    predictions = model.predict(X / 255.0)\n",
        "    confidence_percentiles = {60: [], 65: [],70: [], 75: [], 80: [], 85: [], 90: [], 95: [], 98: []}\n",
        "\n",
        "    for class_label in range(num_classes):\n",
        "        class_probs = predictions[:, class_label]\n",
        "        for percentile in confidence_percentiles.keys():\n",
        "            threshold = np.percentile(class_probs, percentile)\n",
        "            confidence_percentiles[percentile].append(threshold)\n",
        "\n",
        "    print(\"Confidence thresholds per percentile:\")\n",
        "    for percentile, thresholds in confidence_percentiles.items():\n",
        "        print(f\"{percentile}%: {thresholds}\")\n",
        "\n",
        "    return confidence_percentiles\n",
        "\n",
        "\n",
        "def estimate_transition_matrix_with_anchors(X, y_noisy, model, num_classes, adaptive_thresholds):\n",
        "    y_pred = model.predict(X / 255.0)\n",
        "    transition_matrix = np.zeros((num_classes, num_classes))\n",
        "\n",
        "    for i in range(num_classes):\n",
        "        mask = (y_noisy == i) & (np.max(y_pred, axis=1) > adaptive_thresholds[i])\n",
        "        for j in range(num_classes):\n",
        "            transition_matrix[i, j] = np.mean(mask & (np.argmax(y_pred, axis=1) == j))\n",
        "\n",
        "    transition_matrix /= transition_matrix.sum(axis=1, keepdims=True)\n",
        "    print(\"Diagonal values of estimated transition matrix:\", np.diag(transition_matrix))\n",
        "    return transition_matrix\n",
        "\n",
        "def calculate_mse(actual, estimated):\n",
        "    return np.mean((actual - estimated) ** 2)\n",
        "\n",
        "\n",
        "def load_dataset(filepath):\n",
        "    data = np.load(filepath)\n",
        "    return data['X_tr'], data['S_tr'], data['X_ts'], data['Y_ts']\n",
        "\n",
        "cifar_filepath = '/content/drive/MyDrive/5328data/CIFAR10.npz'\n",
        "Xtr_cifar, Str_cifar, Xts_cifar, Yts_cifar = load_dataset(cifar_filepath)"
      ],
      "metadata": {
        "id": "wD-Wh7TGJ_AU"
      },
      "execution_count": null,
      "outputs": []
    },
    {
      "cell_type": "code",
      "source": [
        "model = build_robust_cnn(input_shape=(32, 32, 3), num_classes=4)\n",
        "class_weights = {\n",
        "    0: 1.4,\n",
        "    1: 1.3,\n",
        "    2: 4.5,\n",
        "    3: 3.0\n",
        "}\n",
        "model.fit(Xtr_cifar / 255.0, Str_cifar, epochs=80, batch_size=32, validation_split=0.2, class_weight=class_weights)"
      ],
      "metadata": {
        "colab": {
          "base_uri": "https://localhost:8080/"
        },
        "id": "vVulp3s4KGFR",
        "outputId": "25f380e5-d214-45df-a1cf-657da3028029"
      },
      "execution_count": null,
      "outputs": [
        {
          "output_type": "stream",
          "name": "stdout",
          "text": [
            "Epoch 1/80\n",
            "\u001b[1m500/500\u001b[0m \u001b[32m━━━━━━━━━━━━━━━━━━━━\u001b[0m\u001b[37m\u001b[0m \u001b[1m40s\u001b[0m 72ms/step - accuracy: 0.3659 - loss: 2.6774 - val_accuracy: 0.5008 - val_loss: 0.8358\n",
            "Epoch 2/80\n",
            "\u001b[1m500/500\u001b[0m \u001b[32m━━━━━━━━━━━━━━━━━━━━\u001b[0m\u001b[37m\u001b[0m \u001b[1m39s\u001b[0m 68ms/step - accuracy: 0.5248 - loss: 1.9938 - val_accuracy: 0.6043 - val_loss: 0.6735\n",
            "Epoch 3/80\n",
            "\u001b[1m500/500\u001b[0m \u001b[32m━━━━━━━━━━━━━━━━━━━━\u001b[0m\u001b[37m\u001b[0m \u001b[1m42s\u001b[0m 70ms/step - accuracy: 0.5674 - loss: 1.8539 - val_accuracy: 0.6045 - val_loss: 0.6768\n",
            "Epoch 4/80\n",
            "\u001b[1m500/500\u001b[0m \u001b[32m━━━━━━━━━━━━━━━━━━━━\u001b[0m\u001b[37m\u001b[0m \u001b[1m34s\u001b[0m 67ms/step - accuracy: 0.5837 - loss: 1.7731 - val_accuracy: 0.6033 - val_loss: 0.6816\n",
            "Epoch 5/80\n",
            "\u001b[1m500/500\u001b[0m \u001b[32m━━━━━━━━━━━━━━━━━━━━\u001b[0m\u001b[37m\u001b[0m \u001b[1m38s\u001b[0m 76ms/step - accuracy: 0.5991 - loss: 1.7332 - val_accuracy: 0.6273 - val_loss: 0.6470\n",
            "Epoch 6/80\n",
            "\u001b[1m500/500\u001b[0m \u001b[32m━━━━━━━━━━━━━━━━━━━━\u001b[0m\u001b[37m\u001b[0m \u001b[1m41s\u001b[0m 75ms/step - accuracy: 0.6076 - loss: 1.6914 - val_accuracy: 0.6285 - val_loss: 0.6382\n",
            "Epoch 7/80\n",
            "\u001b[1m500/500\u001b[0m \u001b[32m━━━━━━━━━━━━━━━━━━━━\u001b[0m\u001b[37m\u001b[0m \u001b[1m37s\u001b[0m 67ms/step - accuracy: 0.6166 - loss: 1.6613 - val_accuracy: 0.6248 - val_loss: 0.6512\n",
            "Epoch 8/80\n",
            "\u001b[1m500/500\u001b[0m \u001b[32m━━━━━━━━━━━━━━━━━━━━\u001b[0m\u001b[37m\u001b[0m \u001b[1m41s\u001b[0m 67ms/step - accuracy: 0.6254 - loss: 1.6252 - val_accuracy: 0.6223 - val_loss: 0.6535\n",
            "Epoch 9/80\n",
            "\u001b[1m500/500\u001b[0m \u001b[32m━━━━━━━━━━━━━━━━━━━━\u001b[0m\u001b[37m\u001b[0m \u001b[1m44s\u001b[0m 73ms/step - accuracy: 0.6352 - loss: 1.5952 - val_accuracy: 0.6457 - val_loss: 0.6108\n",
            "Epoch 10/80\n",
            "\u001b[1m500/500\u001b[0m \u001b[32m━━━━━━━━━━━━━━━━━━━━\u001b[0m\u001b[37m\u001b[0m \u001b[1m38s\u001b[0m 67ms/step - accuracy: 0.6377 - loss: 1.5689 - val_accuracy: 0.6488 - val_loss: 0.6118\n",
            "Epoch 11/80\n",
            "\u001b[1m500/500\u001b[0m \u001b[32m━━━━━━━━━━━━━━━━━━━━\u001b[0m\u001b[37m\u001b[0m \u001b[1m43s\u001b[0m 70ms/step - accuracy: 0.6421 - loss: 1.5552 - val_accuracy: 0.6590 - val_loss: 0.5929\n",
            "Epoch 12/80\n",
            "\u001b[1m500/500\u001b[0m \u001b[32m━━━━━━━━━━━━━━━━━━━━\u001b[0m\u001b[37m\u001b[0m \u001b[1m39s\u001b[0m 67ms/step - accuracy: 0.6454 - loss: 1.5479 - val_accuracy: 0.6582 - val_loss: 0.6018\n",
            "Epoch 13/80\n",
            "\u001b[1m500/500\u001b[0m \u001b[32m━━━━━━━━━━━━━━━━━━━━\u001b[0m\u001b[37m\u001b[0m \u001b[1m41s\u001b[0m 67ms/step - accuracy: 0.6536 - loss: 1.5141 - val_accuracy: 0.6625 - val_loss: 0.5937\n",
            "Epoch 14/80\n",
            "\u001b[1m500/500\u001b[0m \u001b[32m━━━━━━━━━━━━━━━━━━━━\u001b[0m\u001b[37m\u001b[0m \u001b[1m43s\u001b[0m 70ms/step - accuracy: 0.6620 - loss: 1.4890 - val_accuracy: 0.6612 - val_loss: 0.5996\n",
            "Epoch 15/80\n",
            "\u001b[1m500/500\u001b[0m \u001b[32m━━━━━━━━━━━━━━━━━━━━\u001b[0m\u001b[37m\u001b[0m \u001b[1m40s\u001b[0m 68ms/step - accuracy: 0.6656 - loss: 1.4892 - val_accuracy: 0.6708 - val_loss: 0.5834\n",
            "Epoch 16/80\n",
            "\u001b[1m500/500\u001b[0m \u001b[32m━━━━━━━━━━━━━━━━━━━━\u001b[0m\u001b[37m\u001b[0m \u001b[1m43s\u001b[0m 72ms/step - accuracy: 0.6592 - loss: 1.4947 - val_accuracy: 0.6635 - val_loss: 0.5923\n",
            "Epoch 17/80\n",
            "\u001b[1m500/500\u001b[0m \u001b[32m━━━━━━━━━━━━━━━━━━━━\u001b[0m\u001b[37m\u001b[0m \u001b[1m40s\u001b[0m 69ms/step - accuracy: 0.6671 - loss: 1.4664 - val_accuracy: 0.6725 - val_loss: 0.5759\n",
            "Epoch 18/80\n",
            "\u001b[1m500/500\u001b[0m \u001b[32m━━━━━━━━━━━━━━━━━━━━\u001b[0m\u001b[37m\u001b[0m \u001b[1m40s\u001b[0m 67ms/step - accuracy: 0.6693 - loss: 1.4571 - val_accuracy: 0.6715 - val_loss: 0.5754\n",
            "Epoch 19/80\n",
            "\u001b[1m500/500\u001b[0m \u001b[32m━━━━━━━━━━━━━━━━━━━━\u001b[0m\u001b[37m\u001b[0m \u001b[1m33s\u001b[0m 66ms/step - accuracy: 0.6744 - loss: 1.4258 - val_accuracy: 0.6727 - val_loss: 0.5721\n",
            "Epoch 20/80\n",
            "\u001b[1m500/500\u001b[0m \u001b[32m━━━━━━━━━━━━━━━━━━━━\u001b[0m\u001b[37m\u001b[0m \u001b[1m44s\u001b[0m 72ms/step - accuracy: 0.6800 - loss: 1.4183 - val_accuracy: 0.6740 - val_loss: 0.5773\n",
            "Epoch 21/80\n",
            "\u001b[1m500/500\u001b[0m \u001b[32m━━━━━━━━━━━━━━━━━━━━\u001b[0m\u001b[37m\u001b[0m \u001b[1m39s\u001b[0m 67ms/step - accuracy: 0.6780 - loss: 1.4267 - val_accuracy: 0.6745 - val_loss: 0.5665\n",
            "Epoch 22/80\n",
            "\u001b[1m500/500\u001b[0m \u001b[32m━━━━━━━━━━━━━━━━━━━━\u001b[0m\u001b[37m\u001b[0m \u001b[1m34s\u001b[0m 67ms/step - accuracy: 0.6853 - loss: 1.3988 - val_accuracy: 0.6678 - val_loss: 0.5801\n",
            "Epoch 23/80\n",
            "\u001b[1m500/500\u001b[0m \u001b[32m━━━━━━━━━━━━━━━━━━━━\u001b[0m\u001b[37m\u001b[0m \u001b[1m33s\u001b[0m 66ms/step - accuracy: 0.6875 - loss: 1.3956 - val_accuracy: 0.6760 - val_loss: 0.5589\n",
            "Epoch 24/80\n",
            "\u001b[1m500/500\u001b[0m \u001b[32m━━━━━━━━━━━━━━━━━━━━\u001b[0m\u001b[37m\u001b[0m \u001b[1m44s\u001b[0m 72ms/step - accuracy: 0.6825 - loss: 1.3957 - val_accuracy: 0.6825 - val_loss: 0.5615\n",
            "Epoch 25/80\n",
            "\u001b[1m500/500\u001b[0m \u001b[32m━━━━━━━━━━━━━━━━━━━━\u001b[0m\u001b[37m\u001b[0m \u001b[1m45s\u001b[0m 80ms/step - accuracy: 0.6922 - loss: 1.3769 - val_accuracy: 0.6805 - val_loss: 0.5623\n",
            "Epoch 26/80\n",
            "\u001b[1m500/500\u001b[0m \u001b[32m━━━━━━━━━━━━━━━━━━━━\u001b[0m\u001b[37m\u001b[0m \u001b[1m40s\u001b[0m 79ms/step - accuracy: 0.6967 - loss: 1.3584 - val_accuracy: 0.6795 - val_loss: 0.5595\n",
            "Epoch 27/80\n",
            "\u001b[1m500/500\u001b[0m \u001b[32m━━━━━━━━━━━━━━━━━━━━\u001b[0m\u001b[37m\u001b[0m \u001b[1m37s\u001b[0m 71ms/step - accuracy: 0.6980 - loss: 1.3570 - val_accuracy: 0.6775 - val_loss: 0.5652\n",
            "Epoch 28/80\n",
            "\u001b[1m500/500\u001b[0m \u001b[32m━━━━━━━━━━━━━━━━━━━━\u001b[0m\u001b[37m\u001b[0m \u001b[1m41s\u001b[0m 71ms/step - accuracy: 0.6957 - loss: 1.3561 - val_accuracy: 0.6895 - val_loss: 0.5501\n",
            "Epoch 29/80\n",
            "\u001b[1m500/500\u001b[0m \u001b[32m━━━━━━━━━━━━━━━━━━━━\u001b[0m\u001b[37m\u001b[0m \u001b[1m39s\u001b[0m 67ms/step - accuracy: 0.6989 - loss: 1.3412 - val_accuracy: 0.6798 - val_loss: 0.5621\n",
            "Epoch 30/80\n",
            "\u001b[1m500/500\u001b[0m \u001b[32m━━━━━━━━━━━━━━━━━━━━\u001b[0m\u001b[37m\u001b[0m \u001b[1m43s\u001b[0m 70ms/step - accuracy: 0.7012 - loss: 1.3348 - val_accuracy: 0.6755 - val_loss: 0.5620\n",
            "Epoch 31/80\n",
            "\u001b[1m500/500\u001b[0m \u001b[32m━━━━━━━━━━━━━━━━━━━━\u001b[0m\u001b[37m\u001b[0m \u001b[1m42s\u001b[0m 73ms/step - accuracy: 0.7040 - loss: 1.3277 - val_accuracy: 0.6867 - val_loss: 0.5457\n",
            "Epoch 32/80\n",
            "\u001b[1m500/500\u001b[0m \u001b[32m━━━━━━━━━━━━━━━━━━━━\u001b[0m\u001b[37m\u001b[0m \u001b[1m40s\u001b[0m 70ms/step - accuracy: 0.7006 - loss: 1.3363 - val_accuracy: 0.6852 - val_loss: 0.5542\n",
            "Epoch 33/80\n",
            "\u001b[1m500/500\u001b[0m \u001b[32m━━━━━━━━━━━━━━━━━━━━\u001b[0m\u001b[37m\u001b[0m \u001b[1m40s\u001b[0m 67ms/step - accuracy: 0.7106 - loss: 1.2949 - val_accuracy: 0.6817 - val_loss: 0.5625\n",
            "Epoch 34/80\n",
            "\u001b[1m500/500\u001b[0m \u001b[32m━━━━━━━━━━━━━━━━━━━━\u001b[0m\u001b[37m\u001b[0m \u001b[1m41s\u001b[0m 68ms/step - accuracy: 0.7095 - loss: 1.2957 - val_accuracy: 0.6930 - val_loss: 0.5430\n",
            "Epoch 35/80\n",
            "\u001b[1m500/500\u001b[0m \u001b[32m━━━━━━━━━━━━━━━━━━━━\u001b[0m\u001b[37m\u001b[0m \u001b[1m36s\u001b[0m 72ms/step - accuracy: 0.7107 - loss: 1.2888 - val_accuracy: 0.6908 - val_loss: 0.5473\n",
            "Epoch 36/80\n",
            "\u001b[1m500/500\u001b[0m \u001b[32m━━━━━━━━━━━━━━━━━━━━\u001b[0m\u001b[37m\u001b[0m \u001b[1m34s\u001b[0m 68ms/step - accuracy: 0.7121 - loss: 1.2827 - val_accuracy: 0.6890 - val_loss: 0.5489\n",
            "Epoch 37/80\n",
            "\u001b[1m500/500\u001b[0m \u001b[32m━━━━━━━━━━━━━━━━━━━━\u001b[0m\u001b[37m\u001b[0m \u001b[1m40s\u001b[0m 67ms/step - accuracy: 0.7111 - loss: 1.2800 - val_accuracy: 0.6948 - val_loss: 0.5436\n",
            "Epoch 38/80\n",
            "\u001b[1m500/500\u001b[0m \u001b[32m━━━━━━━━━━━━━━━━━━━━\u001b[0m\u001b[37m\u001b[0m \u001b[1m34s\u001b[0m 68ms/step - accuracy: 0.7167 - loss: 1.2707 - val_accuracy: 0.6902 - val_loss: 0.5459\n",
            "Epoch 39/80\n",
            "\u001b[1m500/500\u001b[0m \u001b[32m━━━━━━━━━━━━━━━━━━━━\u001b[0m\u001b[37m\u001b[0m \u001b[1m43s\u001b[0m 73ms/step - accuracy: 0.7179 - loss: 1.2574 - val_accuracy: 0.6895 - val_loss: 0.5484\n",
            "Epoch 40/80\n",
            "\u001b[1m500/500\u001b[0m \u001b[32m━━━━━━━━━━━━━━━━━━━━\u001b[0m\u001b[37m\u001b[0m \u001b[1m34s\u001b[0m 68ms/step - accuracy: 0.7136 - loss: 1.2743 - val_accuracy: 0.6870 - val_loss: 0.5584\n",
            "Epoch 41/80\n",
            "\u001b[1m500/500\u001b[0m \u001b[32m━━━━━━━━━━━━━━━━━━━━\u001b[0m\u001b[37m\u001b[0m \u001b[1m41s\u001b[0m 68ms/step - accuracy: 0.7258 - loss: 1.2444 - val_accuracy: 0.6923 - val_loss: 0.5537\n",
            "Epoch 42/80\n",
            "\u001b[1m500/500\u001b[0m \u001b[32m━━━━━━━━━━━━━━━━━━━━\u001b[0m\u001b[37m\u001b[0m \u001b[1m34s\u001b[0m 67ms/step - accuracy: 0.7247 - loss: 1.2381 - val_accuracy: 0.6942 - val_loss: 0.5419\n",
            "Epoch 43/80\n",
            "\u001b[1m500/500\u001b[0m \u001b[32m━━━━━━━━━━━━━━━━━━━━\u001b[0m\u001b[37m\u001b[0m \u001b[1m43s\u001b[0m 72ms/step - accuracy: 0.7277 - loss: 1.2349 - val_accuracy: 0.6940 - val_loss: 0.5444\n",
            "Epoch 44/80\n",
            "\u001b[1m500/500\u001b[0m \u001b[32m━━━━━━━━━━━━━━━━━━━━\u001b[0m\u001b[37m\u001b[0m \u001b[1m39s\u001b[0m 67ms/step - accuracy: 0.7265 - loss: 1.2269 - val_accuracy: 0.6985 - val_loss: 0.5381\n",
            "Epoch 45/80\n",
            "\u001b[1m500/500\u001b[0m \u001b[32m━━━━━━━━━━━━━━━━━━━━\u001b[0m\u001b[37m\u001b[0m \u001b[1m41s\u001b[0m 67ms/step - accuracy: 0.7291 - loss: 1.2258 - val_accuracy: 0.6960 - val_loss: 0.5454\n",
            "Epoch 46/80\n",
            "\u001b[1m500/500\u001b[0m \u001b[32m━━━━━━━━━━━━━━━━━━━━\u001b[0m\u001b[37m\u001b[0m \u001b[1m41s\u001b[0m 67ms/step - accuracy: 0.7268 - loss: 1.2264 - val_accuracy: 0.6942 - val_loss: 0.5506\n",
            "Epoch 47/80\n",
            "\u001b[1m500/500\u001b[0m \u001b[32m━━━━━━━━━━━━━━━━━━━━\u001b[0m\u001b[37m\u001b[0m \u001b[1m43s\u001b[0m 71ms/step - accuracy: 0.7237 - loss: 1.2327 - val_accuracy: 0.6957 - val_loss: 0.5470\n",
            "Epoch 48/80\n",
            "\u001b[1m500/500\u001b[0m \u001b[32m━━━━━━━━━━━━━━━━━━━━\u001b[0m\u001b[37m\u001b[0m \u001b[1m39s\u001b[0m 68ms/step - accuracy: 0.7309 - loss: 1.2169 - val_accuracy: 0.6948 - val_loss: 0.5409\n",
            "Epoch 49/80\n",
            "\u001b[1m500/500\u001b[0m \u001b[32m━━━━━━━━━━━━━━━━━━━━\u001b[0m\u001b[37m\u001b[0m \u001b[1m41s\u001b[0m 67ms/step - accuracy: 0.7309 - loss: 1.2034 - val_accuracy: 0.6995 - val_loss: 0.5369\n",
            "Epoch 50/80\n",
            "\u001b[1m500/500\u001b[0m \u001b[32m━━━━━━━━━━━━━━━━━━━━\u001b[0m\u001b[37m\u001b[0m \u001b[1m44s\u001b[0m 73ms/step - accuracy: 0.7331 - loss: 1.2013 - val_accuracy: 0.7028 - val_loss: 0.5374\n",
            "Epoch 51/80\n",
            "\u001b[1m500/500\u001b[0m \u001b[32m━━━━━━━━━━━━━━━━━━━━\u001b[0m\u001b[37m\u001b[0m \u001b[1m34s\u001b[0m 67ms/step - accuracy: 0.7347 - loss: 1.1909 - val_accuracy: 0.7003 - val_loss: 0.5362\n",
            "Epoch 52/80\n",
            "\u001b[1m500/500\u001b[0m \u001b[32m━━━━━━━━━━━━━━━━━━━━\u001b[0m\u001b[37m\u001b[0m \u001b[1m41s\u001b[0m 67ms/step - accuracy: 0.7290 - loss: 1.2096 - val_accuracy: 0.6995 - val_loss: 0.5373\n",
            "Epoch 53/80\n",
            "\u001b[1m500/500\u001b[0m \u001b[32m━━━━━━━━━━━━━━━━━━━━\u001b[0m\u001b[37m\u001b[0m \u001b[1m33s\u001b[0m 67ms/step - accuracy: 0.7383 - loss: 1.1822 - val_accuracy: 0.6992 - val_loss: 0.5312\n",
            "Epoch 54/80\n",
            "\u001b[1m500/500\u001b[0m \u001b[32m━━━━━━━━━━━━━━━━━━━━\u001b[0m\u001b[37m\u001b[0m \u001b[1m36s\u001b[0m 73ms/step - accuracy: 0.7413 - loss: 1.1730 - val_accuracy: 0.6990 - val_loss: 0.5333\n",
            "Epoch 55/80\n",
            "\u001b[1m500/500\u001b[0m \u001b[32m━━━━━━━━━━━━━━━━━━━━\u001b[0m\u001b[37m\u001b[0m \u001b[1m39s\u001b[0m 68ms/step - accuracy: 0.7423 - loss: 1.1722 - val_accuracy: 0.6915 - val_loss: 0.5440\n",
            "Epoch 56/80\n",
            "\u001b[1m500/500\u001b[0m \u001b[32m━━━━━━━━━━━━━━━━━━━━\u001b[0m\u001b[37m\u001b[0m \u001b[1m42s\u001b[0m 70ms/step - accuracy: 0.7382 - loss: 1.1777 - val_accuracy: 0.6933 - val_loss: 0.5454\n",
            "Epoch 57/80\n",
            "\u001b[1m500/500\u001b[0m \u001b[32m━━━━━━━━━━━━━━━━━━━━\u001b[0m\u001b[37m\u001b[0m \u001b[1m39s\u001b[0m 67ms/step - accuracy: 0.7455 - loss: 1.1604 - val_accuracy: 0.7040 - val_loss: 0.5313\n",
            "Epoch 58/80\n",
            "\u001b[1m500/500\u001b[0m \u001b[32m━━━━━━━━━━━━━━━━━━━━\u001b[0m\u001b[37m\u001b[0m \u001b[1m37s\u001b[0m 74ms/step - accuracy: 0.7361 - loss: 1.1716 - val_accuracy: 0.7015 - val_loss: 0.5359\n",
            "Epoch 59/80\n",
            "\u001b[1m500/500\u001b[0m \u001b[32m━━━━━━━━━━━━━━━━━━━━\u001b[0m\u001b[37m\u001b[0m \u001b[1m38s\u001b[0m 68ms/step - accuracy: 0.7448 - loss: 1.1598 - val_accuracy: 0.6963 - val_loss: 0.5426\n",
            "Epoch 60/80\n",
            "\u001b[1m500/500\u001b[0m \u001b[32m━━━━━━━━━━━━━━━━━━━━\u001b[0m\u001b[37m\u001b[0m \u001b[1m42s\u001b[0m 69ms/step - accuracy: 0.7385 - loss: 1.1677 - val_accuracy: 0.6995 - val_loss: 0.5386\n",
            "Epoch 61/80\n",
            "\u001b[1m500/500\u001b[0m \u001b[32m━━━━━━━━━━━━━━━━━━━━\u001b[0m\u001b[37m\u001b[0m \u001b[1m40s\u001b[0m 67ms/step - accuracy: 0.7510 - loss: 1.1374 - val_accuracy: 0.6965 - val_loss: 0.5360\n",
            "Epoch 62/80\n",
            "\u001b[1m500/500\u001b[0m \u001b[32m━━━━━━━━━━━━━━━━━━━━\u001b[0m\u001b[37m\u001b[0m \u001b[1m39s\u001b[0m 77ms/step - accuracy: 0.7510 - loss: 1.1359 - val_accuracy: 0.7000 - val_loss: 0.5402\n",
            "Epoch 63/80\n",
            "\u001b[1m500/500\u001b[0m \u001b[32m━━━━━━━━━━━━━━━━━━━━\u001b[0m\u001b[37m\u001b[0m \u001b[1m36s\u001b[0m 68ms/step - accuracy: 0.7475 - loss: 1.1449 - val_accuracy: 0.7030 - val_loss: 0.5333\n",
            "Epoch 64/80\n",
            "\u001b[1m500/500\u001b[0m \u001b[32m━━━━━━━━━━━━━━━━━━━━\u001b[0m\u001b[37m\u001b[0m \u001b[1m34s\u001b[0m 68ms/step - accuracy: 0.7505 - loss: 1.1382 - val_accuracy: 0.7017 - val_loss: 0.5342\n",
            "Epoch 65/80\n",
            "\u001b[1m500/500\u001b[0m \u001b[32m━━━━━━━━━━━━━━━━━━━━\u001b[0m\u001b[37m\u001b[0m \u001b[1m41s\u001b[0m 67ms/step - accuracy: 0.7499 - loss: 1.1312 - val_accuracy: 0.7065 - val_loss: 0.5271\n",
            "Epoch 66/80\n",
            "\u001b[1m500/500\u001b[0m \u001b[32m━━━━━━━━━━━━━━━━━━━━\u001b[0m\u001b[37m\u001b[0m \u001b[1m36s\u001b[0m 72ms/step - accuracy: 0.7513 - loss: 1.1246 - val_accuracy: 0.7025 - val_loss: 0.5318\n",
            "Epoch 67/80\n",
            "\u001b[1m500/500\u001b[0m \u001b[32m━━━━━━━━━━━━━━━━━━━━\u001b[0m\u001b[37m\u001b[0m \u001b[1m39s\u001b[0m 68ms/step - accuracy: 0.7507 - loss: 1.1195 - val_accuracy: 0.7053 - val_loss: 0.5325\n",
            "Epoch 68/80\n",
            "\u001b[1m500/500\u001b[0m \u001b[32m━━━━━━━━━━━━━━━━━━━━\u001b[0m\u001b[37m\u001b[0m \u001b[1m41s\u001b[0m 69ms/step - accuracy: 0.7566 - loss: 1.1058 - val_accuracy: 0.7050 - val_loss: 0.5275\n",
            "Epoch 69/80\n",
            "\u001b[1m500/500\u001b[0m \u001b[32m━━━━━━━━━━━━━━━━━━━━\u001b[0m\u001b[37m\u001b[0m \u001b[1m40s\u001b[0m 67ms/step - accuracy: 0.7556 - loss: 1.1002 - val_accuracy: 0.6942 - val_loss: 0.5446\n",
            "Epoch 70/80\n",
            "\u001b[1m500/500\u001b[0m \u001b[32m━━━━━━━━━━━━━━━━━━━━\u001b[0m\u001b[37m\u001b[0m \u001b[1m43s\u001b[0m 72ms/step - accuracy: 0.7591 - loss: 1.1025 - val_accuracy: 0.7010 - val_loss: 0.5327\n",
            "Epoch 71/80\n",
            "\u001b[1m500/500\u001b[0m \u001b[32m━━━━━━━━━━━━━━━━━━━━\u001b[0m\u001b[37m\u001b[0m \u001b[1m40s\u001b[0m 71ms/step - accuracy: 0.7599 - loss: 1.0937 - val_accuracy: 0.7085 - val_loss: 0.5275\n",
            "Epoch 72/80\n",
            "\u001b[1m500/500\u001b[0m \u001b[32m━━━━━━━━━━━━━━━━━━━━\u001b[0m\u001b[37m\u001b[0m \u001b[1m40s\u001b[0m 68ms/step - accuracy: 0.7578 - loss: 1.0977 - val_accuracy: 0.7042 - val_loss: 0.5313\n",
            "Epoch 73/80\n",
            "\u001b[1m500/500\u001b[0m \u001b[32m━━━━━━━━━━━━━━━━━━━━\u001b[0m\u001b[37m\u001b[0m \u001b[1m41s\u001b[0m 68ms/step - accuracy: 0.7588 - loss: 1.0973 - val_accuracy: 0.7007 - val_loss: 0.5337\n",
            "Epoch 74/80\n",
            "\u001b[1m500/500\u001b[0m \u001b[32m━━━━━━━━━━━━━━━━━━━━\u001b[0m\u001b[37m\u001b[0m \u001b[1m36s\u001b[0m 71ms/step - accuracy: 0.7620 - loss: 1.0828 - val_accuracy: 0.7065 - val_loss: 0.5316\n",
            "Epoch 75/80\n",
            "\u001b[1m500/500\u001b[0m \u001b[32m━━━━━━━━━━━━━━━━━━━━\u001b[0m\u001b[37m\u001b[0m \u001b[1m41s\u001b[0m 71ms/step - accuracy: 0.7589 - loss: 1.0860 - val_accuracy: 0.7053 - val_loss: 0.5337\n",
            "Epoch 76/80\n",
            "\u001b[1m500/500\u001b[0m \u001b[32m━━━━━━━━━━━━━━━━━━━━\u001b[0m\u001b[37m\u001b[0m \u001b[1m40s\u001b[0m 68ms/step - accuracy: 0.7653 - loss: 1.0739 - val_accuracy: 0.7040 - val_loss: 0.5347\n",
            "Epoch 77/80\n",
            "\u001b[1m500/500\u001b[0m \u001b[32m━━━━━━━━━━━━━━━━━━━━\u001b[0m\u001b[37m\u001b[0m \u001b[1m41s\u001b[0m 68ms/step - accuracy: 0.7640 - loss: 1.0876 - val_accuracy: 0.6925 - val_loss: 0.5532\n",
            "Epoch 78/80\n",
            "\u001b[1m500/500\u001b[0m \u001b[32m━━━━━━━━━━━━━━━━━━━━\u001b[0m\u001b[37m\u001b[0m \u001b[1m44s\u001b[0m 74ms/step - accuracy: 0.7591 - loss: 1.0920 - val_accuracy: 0.6877 - val_loss: 0.5576\n",
            "Epoch 79/80\n",
            "\u001b[1m500/500\u001b[0m \u001b[32m━━━━━━━━━━━━━━━━━━━━\u001b[0m\u001b[37m\u001b[0m \u001b[1m38s\u001b[0m 68ms/step - accuracy: 0.7691 - loss: 1.0616 - val_accuracy: 0.7063 - val_loss: 0.5363\n",
            "Epoch 80/80\n",
            "\u001b[1m500/500\u001b[0m \u001b[32m━━━━━━━━━━━━━━━━━━━━\u001b[0m\u001b[37m\u001b[0m \u001b[1m41s\u001b[0m 68ms/step - accuracy: 0.7618 - loss: 1.0824 - val_accuracy: 0.7000 - val_loss: 0.5320\n"
          ]
        },
        {
          "output_type": "execute_result",
          "data": {
            "text/plain": [
              "<keras.src.callbacks.history.History at 0x78847dae1420>"
            ]
          },
          "metadata": {},
          "execution_count": 11
        }
      ]
    },
    {
      "cell_type": "code",
      "source": [
        "confidence_percentiles = analyze_confidence_distribution(Xtr_cifar, model, num_classes=4)"
      ],
      "metadata": {
        "colab": {
          "base_uri": "https://localhost:8080/"
        },
        "id": "Ge6Fnp_-KGHR",
        "outputId": "f9fec126-e10e-4598-aa78-869dfd45df7e"
      },
      "execution_count": null,
      "outputs": [
        {
          "output_type": "stream",
          "name": "stdout",
          "text": [
            "\u001b[1m625/625\u001b[0m \u001b[32m━━━━━━━━━━━━━━━━━━━━\u001b[0m\u001b[37m\u001b[0m \u001b[1m11s\u001b[0m 17ms/step\n",
            "Confidence thresholds per percentile:\n",
            "60%: [0.005607647821307179, 0.005800474621355529, 0.024678124859929068, 0.007576218247413635]\n",
            "65%: [0.016589014511555433, 0.018278471659868956, 0.0696876745671034, 0.024858949799090625]\n",
            "70%: [0.06388312652707091, 0.06893820613622635, 0.20563744455575933, 0.09163216650485984]\n",
            "75%: [0.36411990970373154, 0.5988323241472244, 0.5307441800832748, 0.3972421959042549]\n",
            "80%: [0.890276944637299, 0.9850674152374268, 0.8682319045066835, 0.8316138386726379]\n",
            "85%: [0.9806143045425415, 0.998487102985382, 0.9673098742961883, 0.974389961361885]\n",
            "90%: [0.9963570952415466, 0.9998656272888183, 0.9920318305492402, 0.9962726950645447]\n",
            "95%: [0.9995132565498352, 0.9999927937984466, 0.9988174736499786, 0.9996961414813995]\n",
            "98%: [0.9999240064620971, 0.9999995827674866, 0.9997778081893921, 0.9999769425392151]\n"
          ]
        }
      ]
    },
    {
      "cell_type": "code",
      "source": [
        "# Adjust adaptive thresholds\n",
        "adaptive_thresholds = [confidence_percentiles[80][0],\n",
        "                       confidence_percentiles[80][1],\n",
        "                       confidence_percentiles[80][2],\n",
        "                       confidence_percentiles[85][3]]"
      ],
      "metadata": {
        "id": "pcLPJ2zUKGJJ"
      },
      "execution_count": null,
      "outputs": []
    },
    {
      "cell_type": "markdown",
      "source": [
        "#### 3.1 CIFAR10"
      ],
      "metadata": {
        "id": "v9EofE_mOPq8"
      }
    },
    {
      "cell_type": "code",
      "source": [
        "# Estimate transition matrix for CIFAR10\n",
        "estimated_matrix_with_anchors = estimate_transition_matrix_with_anchors(Xtr_cifar, Str_cifar, model, num_classes=4, adaptive_thresholds=adaptive_thresholds)\n",
        "print(\"Estimated Transition Matrix with Anchors for CIFAR10:\")\n",
        "print(estimated_matrix_with_anchors)"
      ],
      "metadata": {
        "colab": {
          "base_uri": "https://localhost:8080/"
        },
        "id": "NuTDoScwKKgV",
        "outputId": "550ee347-6ed1-4842-d29d-c62137d555d9"
      },
      "execution_count": null,
      "outputs": [
        {
          "output_type": "stream",
          "name": "stdout",
          "text": [
            "\u001b[1m625/625\u001b[0m \u001b[32m━━━━━━━━━━━━━━━━━━━━\u001b[0m\u001b[37m\u001b[0m \u001b[1m8s\u001b[0m 13ms/step\n",
            "Diagonal values of estimated transition matrix: [0.85       0.91763158 0.80985745 0.88961039]\n",
            "Estimated Transition Matrix with Anchors for CIFAR10:\n",
            "[[0.85       0.018      0.02725    0.10475   ]\n",
            " [0.07763158 0.91763158 0.00210526 0.00263158]\n",
            " [0.02464363 0.14085528 0.80985745 0.02464363]\n",
            " [0.01093643 0.00341763 0.09603554 0.88961039]]\n"
          ]
        }
      ]
    },
    {
      "cell_type": "markdown",
      "source": [
        "#### 3.2 MSE for FashionMNIST0.3"
      ],
      "metadata": {
        "id": "5JL52ekDNpSZ"
      }
    },
    {
      "cell_type": "code",
      "source": [
        "FashionMNIST_03_filepath = '/content/drive/MyDrive/5328data/FashionMNIST0.3.npz'\n",
        "Xtr_03, Str_03, Xts_03, Yts_03 = load_dataset(FashionMNIST_03_filepath)\n",
        "\n",
        "FashionMNIST_06_filepath = '/content/drive/MyDrive/5328data/FashionMNIST0.6.npz'\n",
        "Xtr_06, Str_06, Xts_06, Yts_06 = load_dataset(FashionMNIST_06_filepath)\n",
        "\n",
        "Xtr_03 = np.expand_dims(Xtr_03, axis=-1)\n",
        "Xts_03 = np.expand_dims(Xts_03, axis=-1)\n",
        "Xtr_06 = np.expand_dims(Xtr_06, axis=-1)\n",
        "Xts_06 = np.expand_dims(Xts_06, axis=-1)\n",
        "\n",
        "num_classes = 4\n",
        "input_shape = (28, 28, 1)"
      ],
      "metadata": {
        "id": "MtXnvNAhOonN"
      },
      "execution_count": null,
      "outputs": []
    },
    {
      "cell_type": "code",
      "source": [
        "model_03 = build_robust_cnn(input_shape, num_classes)\n",
        "model_03.fit(Xtr_03 / 255.0, Str_03, epochs=20, batch_size=32, validation_split=0.2)"
      ],
      "metadata": {
        "colab": {
          "base_uri": "https://localhost:8080/"
        },
        "id": "e2iCXOICNocL",
        "outputId": "3c1def00-6776-4974-91c4-6cc5ffea6c91"
      },
      "execution_count": 64,
      "outputs": [
        {
          "output_type": "stream",
          "name": "stdout",
          "text": [
            "Epoch 1/20\n",
            "\u001b[1m600/600\u001b[0m \u001b[32m━━━━━━━━━━━━━━━━━━━━\u001b[0m\u001b[37m\u001b[0m \u001b[1m33s\u001b[0m 52ms/step - accuracy: 0.4500 - loss: 0.9213 - val_accuracy: 0.6465 - val_loss: 0.6174\n",
            "Epoch 2/20\n",
            "\u001b[1m600/600\u001b[0m \u001b[32m━━━━━━━━━━━━━━━━━━━━\u001b[0m\u001b[37m\u001b[0m \u001b[1m31s\u001b[0m 52ms/step - accuracy: 0.5985 - loss: 0.6803 - val_accuracy: 0.6617 - val_loss: 0.5783\n",
            "Epoch 3/20\n",
            "\u001b[1m600/600\u001b[0m \u001b[32m━━━━━━━━━━━━━━━━━━━━\u001b[0m\u001b[37m\u001b[0m \u001b[1m34s\u001b[0m 56ms/step - accuracy: 0.6191 - loss: 0.6370 - val_accuracy: 0.6615 - val_loss: 0.5667\n",
            "Epoch 4/20\n",
            "\u001b[1m600/600\u001b[0m \u001b[32m━━━━━━━━━━━━━━━━━━━━\u001b[0m\u001b[37m\u001b[0m \u001b[1m31s\u001b[0m 52ms/step - accuracy: 0.6275 - loss: 0.6206 - val_accuracy: 0.6644 - val_loss: 0.5589\n",
            "Epoch 5/20\n",
            "\u001b[1m600/600\u001b[0m \u001b[32m━━━━━━━━━━━━━━━━━━━━\u001b[0m\u001b[37m\u001b[0m \u001b[1m41s\u001b[0m 51ms/step - accuracy: 0.6343 - loss: 0.6084 - val_accuracy: 0.6706 - val_loss: 0.5521\n",
            "Epoch 6/20\n",
            "\u001b[1m600/600\u001b[0m \u001b[32m━━━━━━━━━━━━━━━━━━━━\u001b[0m\u001b[37m\u001b[0m \u001b[1m42s\u001b[0m 53ms/step - accuracy: 0.6410 - loss: 0.5985 - val_accuracy: 0.6710 - val_loss: 0.5505\n",
            "Epoch 7/20\n",
            "\u001b[1m600/600\u001b[0m \u001b[32m━━━━━━━━━━━━━━━━━━━━\u001b[0m\u001b[37m\u001b[0m \u001b[1m31s\u001b[0m 52ms/step - accuracy: 0.6436 - loss: 0.5912 - val_accuracy: 0.6700 - val_loss: 0.5462\n",
            "Epoch 8/20\n",
            "\u001b[1m600/600\u001b[0m \u001b[32m━━━━━━━━━━━━━━━━━━━━\u001b[0m\u001b[37m\u001b[0m \u001b[1m44s\u001b[0m 57ms/step - accuracy: 0.6541 - loss: 0.5814 - val_accuracy: 0.6710 - val_loss: 0.5445\n",
            "Epoch 9/20\n",
            "\u001b[1m600/600\u001b[0m \u001b[32m━━━━━━━━━━━━━━━━━━━━\u001b[0m\u001b[37m\u001b[0m \u001b[1m38s\u001b[0m 52ms/step - accuracy: 0.6552 - loss: 0.5770 - val_accuracy: 0.6723 - val_loss: 0.5427\n",
            "Epoch 10/20\n",
            "\u001b[1m600/600\u001b[0m \u001b[32m━━━━━━━━━━━━━━━━━━━━\u001b[0m\u001b[37m\u001b[0m \u001b[1m41s\u001b[0m 53ms/step - accuracy: 0.6555 - loss: 0.5746 - val_accuracy: 0.6746 - val_loss: 0.5404\n",
            "Epoch 11/20\n",
            "\u001b[1m600/600\u001b[0m \u001b[32m━━━━━━━━━━━━━━━━━━━━\u001b[0m\u001b[37m\u001b[0m \u001b[1m41s\u001b[0m 52ms/step - accuracy: 0.6603 - loss: 0.5671 - val_accuracy: 0.6752 - val_loss: 0.5384\n",
            "Epoch 12/20\n",
            "\u001b[1m600/600\u001b[0m \u001b[32m━━━━━━━━━━━━━━━━━━━━\u001b[0m\u001b[37m\u001b[0m \u001b[1m33s\u001b[0m 56ms/step - accuracy: 0.6584 - loss: 0.5655 - val_accuracy: 0.6773 - val_loss: 0.5387\n",
            "Epoch 13/20\n",
            "\u001b[1m600/600\u001b[0m \u001b[32m━━━━━━━━━━━━━━━━━━━━\u001b[0m\u001b[37m\u001b[0m \u001b[1m32s\u001b[0m 53ms/step - accuracy: 0.6611 - loss: 0.5648 - val_accuracy: 0.6769 - val_loss: 0.5359\n",
            "Epoch 14/20\n",
            "\u001b[1m600/600\u001b[0m \u001b[32m━━━━━━━━━━━━━━━━━━━━\u001b[0m\u001b[37m\u001b[0m \u001b[1m40s\u001b[0m 52ms/step - accuracy: 0.6638 - loss: 0.5607 - val_accuracy: 0.6758 - val_loss: 0.5364\n",
            "Epoch 15/20\n",
            "\u001b[1m600/600\u001b[0m \u001b[32m━━━━━━━━━━━━━━━━━━━━\u001b[0m\u001b[37m\u001b[0m \u001b[1m41s\u001b[0m 52ms/step - accuracy: 0.6638 - loss: 0.5582 - val_accuracy: 0.6731 - val_loss: 0.5371\n",
            "Epoch 16/20\n",
            "\u001b[1m600/600\u001b[0m \u001b[32m━━━━━━━━━━━━━━━━━━━━\u001b[0m\u001b[37m\u001b[0m \u001b[1m41s\u001b[0m 52ms/step - accuracy: 0.6646 - loss: 0.5550 - val_accuracy: 0.6767 - val_loss: 0.5343\n",
            "Epoch 17/20\n",
            "\u001b[1m600/600\u001b[0m \u001b[32m━━━━━━━━━━━━━━━━━━━━\u001b[0m\u001b[37m\u001b[0m \u001b[1m43s\u001b[0m 57ms/step - accuracy: 0.6652 - loss: 0.5523 - val_accuracy: 0.6777 - val_loss: 0.5339\n",
            "Epoch 18/20\n",
            "\u001b[1m600/600\u001b[0m \u001b[32m━━━━━━━━━━━━━━━━━━━━\u001b[0m\u001b[37m\u001b[0m \u001b[1m37s\u001b[0m 50ms/step - accuracy: 0.6641 - loss: 0.5522 - val_accuracy: 0.6796 - val_loss: 0.5336\n",
            "Epoch 19/20\n",
            "\u001b[1m600/600\u001b[0m \u001b[32m━━━━━━━━━━━━━━━━━━━━\u001b[0m\u001b[37m\u001b[0m \u001b[1m42s\u001b[0m 53ms/step - accuracy: 0.6680 - loss: 0.5496 - val_accuracy: 0.6800 - val_loss: 0.5321\n",
            "Epoch 20/20\n",
            "\u001b[1m600/600\u001b[0m \u001b[32m━━━━━━━━━━━━━━━━━━━━\u001b[0m\u001b[37m\u001b[0m \u001b[1m32s\u001b[0m 53ms/step - accuracy: 0.6656 - loss: 0.5487 - val_accuracy: 0.6792 - val_loss: 0.5347\n"
          ]
        },
        {
          "output_type": "execute_result",
          "data": {
            "text/plain": [
              "<keras.src.callbacks.history.History at 0x7c3a737b4610>"
            ]
          },
          "metadata": {},
          "execution_count": 64
        }
      ]
    },
    {
      "cell_type": "code",
      "source": [
        "confidence_percentiles_03 = analyze_confidence_distribution(Xtr_03, model_03, num_classes=4)"
      ],
      "metadata": {
        "id": "wPa5c2anNyhD",
        "colab": {
          "base_uri": "https://localhost:8080/"
        },
        "outputId": "5238d4e7-db37-4f0f-a4ba-81e2385337a4"
      },
      "execution_count": 65,
      "outputs": [
        {
          "output_type": "stream",
          "name": "stdout",
          "text": [
            "\u001b[1m750/750\u001b[0m \u001b[32m━━━━━━━━━━━━━━━━━━━━\u001b[0m\u001b[37m\u001b[0m \u001b[1m9s\u001b[0m 11ms/step\n",
            "Confidence thresholds per percentile:\n",
            "60%: [0.13651145696640016, 0.11210416704416275, 0.16722135841846464, 0.12896569967269897]\n",
            "65%: [0.1764673709869385, 0.13314802944660187, 0.18646523952484131, 0.16035163253545762]\n",
            "70%: [0.2435815513134002, 0.1623643323779106, 0.21480156481266016, 0.20719595700502394]\n",
            "75%: [0.6053356677293777, 0.2940569818019867, 0.38737712800502777, 0.4451291784644127]\n",
            "80%: [0.8227149724960328, 0.782927417755127, 0.8008086919784546, 0.7609647631645203]\n",
            "85%: [0.8590942919254302, 0.8129684686660766, 0.8475457727909088, 0.8271110355854034]\n",
            "90%: [0.8811225831508637, 0.8326283276081086, 0.878944730758667, 0.8660588085651397]\n",
            "95%: [0.9031992614269256, 0.8544686734676361, 0.911539563536644, 0.9002179384231567]\n",
            "98%: [0.9306588780879975, 0.8932995176315308, 0.9438976085186005, 0.9332187449932099]\n"
          ]
        }
      ]
    },
    {
      "cell_type": "code",
      "source": [
        "# Adjust adaptive thresholds\n",
        "adaptive_thresholds_03 = [confidence_percentiles_03[75][0],\n",
        "                       confidence_percentiles_03[75][1],\n",
        "                       confidence_percentiles_03[75][2],\n",
        "                       confidence_percentiles_03[75][3]]\n"
      ],
      "metadata": {
        "id": "wBtljA1bNyte"
      },
      "execution_count": 67,
      "outputs": []
    },
    {
      "cell_type": "code",
      "source": [
        "# Estimate transition matrix for FashionMNIST0.3\n",
        "estimated_matrix_03 = estimate_transition_matrix_with_anchors(Xtr_03, Str_03, model_03, num_classes=4, adaptive_thresholds=adaptive_thresholds_03)\n",
        "print(\"Estimated Transition Matrix with for FashionMNIST0.3\")\n",
        "print(estimated_matrix_03)"
      ],
      "metadata": {
        "id": "xPCQw3pSN3Ka",
        "colab": {
          "base_uri": "https://localhost:8080/"
        },
        "outputId": "6d7783a6-7135-4760-b513-43d4c84a832b"
      },
      "execution_count": 68,
      "outputs": [
        {
          "output_type": "stream",
          "name": "stdout",
          "text": [
            "\u001b[1m750/750\u001b[0m \u001b[32m━━━━━━━━━━━━━━━━━━━━\u001b[0m\u001b[37m\u001b[0m \u001b[1m10s\u001b[0m 13ms/step\n",
            "Diagonal values of estimated transition matrix: [0.7014951  0.6886038  0.67557124 0.66001007]\n",
            "Estimated Transition Matrix with for FashionMNIST0.3\n",
            "[[0.7014951  0.00137481 0.01477917 0.28235092]\n",
            " [0.28223925 0.6886038  0.01232922 0.01682772]\n",
            " [0.01310484 0.28830645 0.67557124 0.02301747]\n",
            " [0.0488337  0.00369189 0.28746434 0.66001007]]\n"
          ]
        }
      ]
    },
    {
      "cell_type": "code",
      "source": [
        "T_03 = np.array([[0.7, 0.3, 0.0, 0.0],\n",
        "                 [0.0, 0.7, 0.3, 0.0],\n",
        "                 [0.0, 0.0, 0.7, 0.3],\n",
        "                 [0.3, 0.0, 0.0, 0.7]])\n",
        "\n",
        "mse_03 = calculate_mse(T_03, estimated_matrix_03)\n",
        "print(\"MSE for FashionMNIST0.3:\", mse_03)"
      ],
      "metadata": {
        "id": "iNZh_wLON3Sn",
        "colab": {
          "base_uri": "https://localhost:8080/"
        },
        "outputId": "a8ab38e5-7229-4f9f-fc84-21849522b1a7"
      },
      "execution_count": 69,
      "outputs": [
        {
          "output_type": "stream",
          "name": "stdout",
          "text": [
            "MSE for FashionMNIST0.3: 0.03999298369772684\n"
          ]
        }
      ]
    },
    {
      "cell_type": "markdown",
      "source": [
        "#### 3.3 MSE for FashionMNIST0.6"
      ],
      "metadata": {
        "id": "5LhLDcXtN758"
      }
    },
    {
      "cell_type": "code",
      "source": [
        "modelr_06 = build_robust_cnn(input_shape, num_classes)\n",
        "modelr_06.fit(Xtr_06 / 255.0, Str_06, epochs=20, batch_size=32, validation_split=0.2)"
      ],
      "metadata": {
        "id": "IBgiX719N3VA",
        "colab": {
          "base_uri": "https://localhost:8080/"
        },
        "outputId": "5d56152b-a843-48f8-ebd0-c7c3b34998ad"
      },
      "execution_count": 70,
      "outputs": [
        {
          "output_type": "stream",
          "name": "stdout",
          "text": [
            "Epoch 1/20\n",
            "\u001b[1m600/600\u001b[0m \u001b[32m━━━━━━━━━━━━━━━━━━━━\u001b[0m\u001b[37m\u001b[0m \u001b[1m34s\u001b[0m 53ms/step - accuracy: 0.2843 - loss: 1.1086 - val_accuracy: 0.3650 - val_loss: 0.9895\n",
            "Epoch 2/20\n",
            "\u001b[1m600/600\u001b[0m \u001b[32m━━━━━━━━━━━━━━━━━━━━\u001b[0m\u001b[37m\u001b[0m \u001b[1m33s\u001b[0m 55ms/step - accuracy: 0.3111 - loss: 1.0074 - val_accuracy: 0.3694 - val_loss: 0.9834\n",
            "Epoch 3/20\n",
            "\u001b[1m600/600\u001b[0m \u001b[32m━━━━━━━━━━━━━━━━━━━━\u001b[0m\u001b[37m\u001b[0m \u001b[1m39s\u001b[0m 52ms/step - accuracy: 0.3229 - loss: 1.0009 - val_accuracy: 0.3735 - val_loss: 0.9797\n",
            "Epoch 4/20\n",
            "\u001b[1m600/600\u001b[0m \u001b[32m━━━━━━━━━━━━━━━━━━━━\u001b[0m\u001b[37m\u001b[0m \u001b[1m41s\u001b[0m 52ms/step - accuracy: 0.3272 - loss: 0.9962 - val_accuracy: 0.3796 - val_loss: 0.9763\n",
            "Epoch 5/20\n",
            "\u001b[1m600/600\u001b[0m \u001b[32m━━━━━━━━━━━━━━━━━━━━\u001b[0m\u001b[37m\u001b[0m \u001b[1m41s\u001b[0m 51ms/step - accuracy: 0.3293 - loss: 0.9947 - val_accuracy: 0.3738 - val_loss: 0.9758\n",
            "Epoch 6/20\n",
            "\u001b[1m600/600\u001b[0m \u001b[32m━━━━━━━━━━━━━━━━━━━━\u001b[0m\u001b[37m\u001b[0m \u001b[1m42s\u001b[0m 52ms/step - accuracy: 0.3258 - loss: 0.9957 - val_accuracy: 0.3752 - val_loss: 0.9734\n",
            "Epoch 7/20\n",
            "\u001b[1m600/600\u001b[0m \u001b[32m━━━━━━━━━━━━━━━━━━━━\u001b[0m\u001b[37m\u001b[0m \u001b[1m40s\u001b[0m 51ms/step - accuracy: 0.3426 - loss: 0.9877 - val_accuracy: 0.3790 - val_loss: 0.9756\n",
            "Epoch 8/20\n",
            "\u001b[1m600/600\u001b[0m \u001b[32m━━━━━━━━━━━━━━━━━━━━\u001b[0m\u001b[37m\u001b[0m \u001b[1m42s\u001b[0m 52ms/step - accuracy: 0.3438 - loss: 0.9879 - val_accuracy: 0.3762 - val_loss: 0.9738\n",
            "Epoch 9/20\n",
            "\u001b[1m600/600\u001b[0m \u001b[32m━━━━━━━━━━━━━━━━━━━━\u001b[0m\u001b[37m\u001b[0m \u001b[1m41s\u001b[0m 52ms/step - accuracy: 0.3427 - loss: 0.9871 - val_accuracy: 0.3765 - val_loss: 0.9754\n",
            "Epoch 10/20\n",
            "\u001b[1m600/600\u001b[0m \u001b[32m━━━━━━━━━━━━━━━━━━━━\u001b[0m\u001b[37m\u001b[0m \u001b[1m40s\u001b[0m 51ms/step - accuracy: 0.3481 - loss: 0.9865 - val_accuracy: 0.3781 - val_loss: 0.9713\n",
            "Epoch 11/20\n",
            "\u001b[1m600/600\u001b[0m \u001b[32m━━━━━━━━━━━━━━━━━━━━\u001b[0m\u001b[37m\u001b[0m \u001b[1m44s\u001b[0m 56ms/step - accuracy: 0.3575 - loss: 0.9838 - val_accuracy: 0.3792 - val_loss: 0.9721\n",
            "Epoch 12/20\n",
            "\u001b[1m600/600\u001b[0m \u001b[32m━━━━━━━━━━━━━━━━━━━━\u001b[0m\u001b[37m\u001b[0m \u001b[1m38s\u001b[0m 52ms/step - accuracy: 0.3505 - loss: 0.9806 - val_accuracy: 0.3802 - val_loss: 0.9711\n",
            "Epoch 13/20\n",
            "\u001b[1m600/600\u001b[0m \u001b[32m━━━━━━━━━━━━━━━━━━━━\u001b[0m\u001b[37m\u001b[0m \u001b[1m40s\u001b[0m 51ms/step - accuracy: 0.3534 - loss: 0.9817 - val_accuracy: 0.3792 - val_loss: 0.9741\n",
            "Epoch 14/20\n",
            "\u001b[1m600/600\u001b[0m \u001b[32m━━━━━━━━━━━━━━━━━━━━\u001b[0m\u001b[37m\u001b[0m \u001b[1m42s\u001b[0m 52ms/step - accuracy: 0.3547 - loss: 0.9822 - val_accuracy: 0.3787 - val_loss: 0.9733\n",
            "Epoch 15/20\n",
            "\u001b[1m600/600\u001b[0m \u001b[32m━━━━━━━━━━━━━━━━━━━━\u001b[0m\u001b[37m\u001b[0m \u001b[1m41s\u001b[0m 52ms/step - accuracy: 0.3551 - loss: 0.9800 - val_accuracy: 0.3777 - val_loss: 0.9718\n",
            "Epoch 16/20\n",
            "\u001b[1m600/600\u001b[0m \u001b[32m━━━━━━━━━━━━━━━━━━━━\u001b[0m\u001b[37m\u001b[0m \u001b[1m34s\u001b[0m 56ms/step - accuracy: 0.3582 - loss: 0.9785 - val_accuracy: 0.3790 - val_loss: 0.9702\n",
            "Epoch 17/20\n",
            "\u001b[1m600/600\u001b[0m \u001b[32m━━━━━━━━━━━━━━━━━━━━\u001b[0m\u001b[37m\u001b[0m \u001b[1m31s\u001b[0m 52ms/step - accuracy: 0.3604 - loss: 0.9765 - val_accuracy: 0.3810 - val_loss: 0.9704\n",
            "Epoch 18/20\n",
            "\u001b[1m600/600\u001b[0m \u001b[32m━━━━━━━━━━━━━━━━━━━━\u001b[0m\u001b[37m\u001b[0m \u001b[1m31s\u001b[0m 52ms/step - accuracy: 0.3706 - loss: 0.9697 - val_accuracy: 0.3808 - val_loss: 0.9703\n",
            "Epoch 19/20\n",
            "\u001b[1m600/600\u001b[0m \u001b[32m━━━━━━━━━━━━━━━━━━━━\u001b[0m\u001b[37m\u001b[0m \u001b[1m41s\u001b[0m 53ms/step - accuracy: 0.3629 - loss: 0.9762 - val_accuracy: 0.3817 - val_loss: 0.9712\n",
            "Epoch 20/20\n",
            "\u001b[1m600/600\u001b[0m \u001b[32m━━━━━━━━━━━━━━━━━━━━\u001b[0m\u001b[37m\u001b[0m \u001b[1m41s\u001b[0m 53ms/step - accuracy: 0.3613 - loss: 0.9748 - val_accuracy: 0.3806 - val_loss: 0.9706\n"
          ]
        },
        {
          "output_type": "execute_result",
          "data": {
            "text/plain": [
              "<keras.src.callbacks.history.History at 0x7c39fdd2b5e0>"
            ]
          },
          "metadata": {},
          "execution_count": 70
        }
      ]
    },
    {
      "cell_type": "code",
      "source": [
        "confidence_percentilesr_06 = analyze_confidence_distribution(Xtr_06, modelr_06, num_classes=4)"
      ],
      "metadata": {
        "id": "io_c99ZXN8pD",
        "colab": {
          "base_uri": "https://localhost:8080/"
        },
        "outputId": "9c63515f-4b1a-4fb2-d449-3356d20756ea"
      },
      "execution_count": 71,
      "outputs": [
        {
          "output_type": "stream",
          "name": "stdout",
          "text": [
            "\u001b[1m750/750\u001b[0m \u001b[32m━━━━━━━━━━━━━━━━━━━━\u001b[0m\u001b[37m\u001b[0m \u001b[1m11s\u001b[0m 15ms/step\n",
            "Confidence thresholds per percentile:\n",
            "60%: [0.19353025555610656, 0.19575743973255155, 0.19841970801353453, 0.1918679267168045]\n",
            "65%: [0.2160268880426884, 0.21103945672512056, 0.21361173018813134, 0.21094219163060188]\n",
            "70%: [0.24702166020870206, 0.23535901606082915, 0.24607789665460583, 0.24755945056676865]\n",
            "75%: [0.2987321764230728, 0.3033463582396507, 0.3706640303134918, 0.3011891692876816]\n",
            "80%: [0.38431912064552315, 0.48659640550613403, 0.5143499851226807, 0.3717167139053345]\n",
            "85%: [0.46982216238975505, 0.5325966984033584, 0.5952393144369124, 0.430226157605648]\n",
            "90%: [0.5270638108253481, 0.5582360923290253, 0.6666730582714084, 0.48490065336227434]\n",
            "95%: [0.5739411652088164, 0.5886685609817505, 0.7432048201560973, 0.544361475110054]\n",
            "98%: [0.6128067016601563, 0.6172551941871643, 0.8093166875839234, 0.5974730288982393]\n"
          ]
        }
      ]
    },
    {
      "cell_type": "code",
      "source": [
        "# Adjust adaptive thresholds\n",
        "adaptive_thresholdsr_06 = [confidence_percentilesr_06[75][0],\n",
        "                       confidence_percentilesr_06[75][1],\n",
        "                       confidence_percentilesr_06[70][2],\n",
        "                       confidence_percentilesr_06[75][3]]"
      ],
      "metadata": {
        "id": "IdQ0LoG5N8ri"
      },
      "execution_count": 72,
      "outputs": []
    },
    {
      "cell_type": "code",
      "source": [
        "# Estimate transition matrix for FashionMNIST0.6\n",
        "estimated_matrix_06 = estimate_transition_matrix_with_anchors(Xtr_06, Str_06, modelr_06, num_classes=4, adaptive_thresholds=adaptive_thresholdsr_06)\n",
        "print(\"Estimated Transition Matrix with for FashionMNIST0.6\")\n",
        "print(estimated_matrix_06)"
      ],
      "metadata": {
        "id": "eAlaNUToN8tp",
        "colab": {
          "base_uri": "https://localhost:8080/"
        },
        "outputId": "65d2236f-9332-4a58-a9a1-3aa7e4ebd6b0"
      },
      "execution_count": 73,
      "outputs": [
        {
          "output_type": "stream",
          "name": "stdout",
          "text": [
            "\u001b[1m750/750\u001b[0m \u001b[32m━━━━━━━━━━━━━━━━━━━━\u001b[0m\u001b[37m\u001b[0m \u001b[1m9s\u001b[0m 12ms/step\n",
            "Diagonal values of estimated transition matrix: [0.3735554  0.39931507 0.4015984  0.37714383]\n",
            "Estimated Transition Matrix with for FashionMNIST0.6\n",
            "[[0.3735554  0.20683209 0.2149898  0.20462271]\n",
            " [0.19246575 0.39931507 0.21438356 0.19383562]\n",
            " [0.2001332  0.19314019 0.4015984  0.20512821]\n",
            " [0.19324164 0.20461878 0.22499575 0.37714383]]\n"
          ]
        }
      ]
    },
    {
      "cell_type": "code",
      "source": [
        "T_06 = np.array([[0.4, 0.2, 0.2, 0.2],\n",
        "                [0.2, 0.4, 0.2, 0.2],\n",
        "                [0.2, 0.2, 0.4, 0.2],\n",
        "                [0.2, 0.2, 0.2, 0.4]])\n",
        "\n",
        "mse_06 = calculate_mse(T_06, estimated_matrix_06)\n",
        "print(\"MSE for FashionMNIST0.6:\", mse_06)"
      ],
      "metadata": {
        "id": "RVGZrfBCOAFc",
        "colab": {
          "base_uri": "https://localhost:8080/"
        },
        "outputId": "80e347e3-80b7-4ab4-a76d-e39dca1b4c96"
      },
      "execution_count": 74,
      "outputs": [
        {
          "output_type": "stream",
          "name": "stdout",
          "text": [
            "MSE for FashionMNIST0.6: 0.0001615191981324255\n"
          ]
        }
      ]
    },
    {
      "cell_type": "markdown",
      "source": [
        "## 4 Image Classification with Unknown Flip Rates"
      ],
      "metadata": {
        "id": "mvK4no3VKXbF"
      }
    },
    {
      "cell_type": "markdown",
      "source": [
        "### 4.1 CNN for CIFAR dataset"
      ],
      "metadata": {
        "id": "wPmIdRvx7ml-"
      }
    },
    {
      "cell_type": "markdown",
      "source": [
        "#### 4.1.1 without Transition Matrix"
      ],
      "metadata": {
        "id": "cfzMh-h-kSgW"
      }
    },
    {
      "cell_type": "code",
      "source": [
        "# CNN Model for 32x32 RGB images\n",
        "class CNN32x32(nn.Module):\n",
        "    def __init__(self):\n",
        "        super(CNN32x32, self).__init__()\n",
        "        self.conv1 = nn.Conv2d(3, 32, kernel_size=3, padding=1)  # 3 input channels for RGB\n",
        "        self.conv2 = nn.Conv2d(32, 64, kernel_size=3, padding=1)\n",
        "        self.pool = nn.MaxPool2d(kernel_size=2, stride=2)\n",
        "        # After two pooling layers, the spatial dimensions will be reduced to 8x8\n",
        "        self.fc1 = nn.Linear(64 * 8 * 8, 512)  # Adjusted for 32x32 input size\n",
        "        self.fc2 = nn.Linear(512, 4)  # Assuming 4 classes\n",
        "\n",
        "    def forward(self, x):\n",
        "        x = self.pool(F.relu(self.conv1(x)))  # First convolution + pooling\n",
        "        x = self.pool(F.relu(self.conv2(x)))  # Second convolution + pooling\n",
        "        x = x.view(-1, 64 * 8 * 8)  # Flatten the tensor\n",
        "        x = F.relu(self.fc1(x))      # Fully connected layer\n",
        "        x = self.fc2(x)              # Output layer\n",
        "        return x\n",
        "\n",
        "# Standard training and evaluation function\n",
        "def train_and_evaluate(model_class, X, y, epochs=10, batch_size=64):\n",
        "    X_train, X_val, y_train, y_val = train_test_split(X, y, test_size=0.2)\n",
        "    print(\"X_train shape:\", X_train.shape)\n",
        "    print(\"y_train shape:\", y_train.shape)\n",
        "    print(\"Unique labels in y_train:\", np.unique(y_train))\n",
        "\n",
        "    # Convert data to PyTorch Tensors and rearrange axes to (N, C, H, W)\n",
        "    X_train_tensor = torch.tensor(X_train, dtype=torch.float32).permute(0, 3, 1, 2)\n",
        "    y_train_tensor = torch.tensor(y_train, dtype=torch.long)\n",
        "    X_val_tensor = torch.tensor(X_val, dtype=torch.float32).permute(0, 3, 1, 2)\n",
        "    y_val_tensor = torch.tensor(y_val, dtype=torch.long)\n",
        "\n",
        "    # Calculate mean and standard deviation per channel from training data\n",
        "    mean = X_train_tensor.mean(dim=(0, 2, 3), keepdim=True)\n",
        "    std = X_train_tensor.std(dim=(0, 2, 3), keepdim=True)\n",
        "\n",
        "    # Normalize the training and validation data\n",
        "    X_train_tensor = (X_train_tensor - mean) / std\n",
        "    X_val_tensor = (X_val_tensor - mean) / std\n",
        "\n",
        "    train_dataset = TensorDataset(X_train_tensor, y_train_tensor)\n",
        "    val_dataset = TensorDataset(X_val_tensor, y_val_tensor)\n",
        "\n",
        "    train_loader = DataLoader(dataset=train_dataset, batch_size=batch_size, shuffle=True)\n",
        "    val_loader = DataLoader(dataset=val_dataset, batch_size=batch_size, shuffle=False)\n",
        "\n",
        "    model = model_class().to(device)\n",
        "    optimizer = optim.Adam(model.parameters(), lr=0.001)\n",
        "    criterion = nn.CrossEntropyLoss()\n",
        "\n",
        "    for epoch in range(epochs):\n",
        "        model.train()\n",
        "        total_loss = 0\n",
        "        for data, targets in train_loader:\n",
        "            data, targets = data.to(device), targets.to(device)\n",
        "\n",
        "            outputs = model(data)\n",
        "            loss = criterion(outputs, targets)  # Standard cross-entropy loss\n",
        "\n",
        "            optimizer.zero_grad()\n",
        "            loss.backward()\n",
        "            optimizer.step()\n",
        "\n",
        "            total_loss += loss.item()\n",
        "\n",
        "        avg_loss = total_loss / len(train_loader)\n",
        "        print(f'Epoch {epoch+1}/{epochs}, Loss: {avg_loss:.4f}')\n",
        "\n",
        "    # Evaluate the model on the validation set\n",
        "    accuracy = evaluate_model(model, val_loader)\n",
        "    print(f'Validation Accuracy: {accuracy:.2f}%')\n",
        "    return model, mean, std\n",
        "\n",
        "def evaluate_on_test_set(model, X_test, y_test, mean, std, batch_size=64):\n",
        "    # Convert test data to PyTorch Tensors and rearrange axes\n",
        "    X_test_tensor = torch.tensor(X_test, dtype=torch.float32).permute(0, 3, 1, 2)\n",
        "    X_test_tensor = (X_test_tensor - mean) / std  # Normalize using training set mean and std\n",
        "    y_test_tensor = torch.tensor(y_test, dtype=torch.long)\n",
        "\n",
        "    test_dataset = TensorDataset(X_test_tensor, y_test_tensor)\n",
        "    test_loader = DataLoader(dataset=test_dataset, batch_size=batch_size, shuffle=False)\n",
        "\n",
        "    model.eval()\n",
        "    correct = 0\n",
        "    total = 0\n",
        "    with torch.no_grad():\n",
        "        for data, targets in test_loader:\n",
        "            data, targets = data.to(device), targets.to(device)\n",
        "            outputs = model(data)\n",
        "            _, predicted = torch.max(outputs.data, 1)\n",
        "            total += targets.size(0)\n",
        "            correct += (predicted == targets).sum().item()\n",
        "\n",
        "    accuracy = 100 * correct / total\n",
        "    print(f\"Test Accuracy: {accuracy:.2f}%\")\n",
        "    return accuracy"
      ],
      "metadata": {
        "id": "Lp7OG2utkQ8p"
      },
      "execution_count": 60,
      "outputs": []
    },
    {
      "cell_type": "code",
      "source": [
        "mean_test_accuracy_10, std_test_accuracy_10 = train_multiple_times_with_test(\n",
        "    CNN32x32, Xtr_C10, Str_C10, Xts_C10, Yts_C10, num_trials=10, epochs=5\n",
        ")"
      ],
      "metadata": {
        "id": "kP-0pFnrhvVc",
        "colab": {
          "base_uri": "https://localhost:8080/"
        },
        "outputId": "50ee7730-94ca-4203-e27f-a089b51c7161"
      },
      "execution_count": 61,
      "outputs": [
        {
          "output_type": "stream",
          "name": "stdout",
          "text": [
            "\n",
            "Trial 1/10\n",
            "X_train shape: (16000, 32, 32, 3)\n",
            "y_train shape: (16000,)\n",
            "Unique labels in y_train: [0 1 2 3]\n",
            "Epoch 1/5, Loss: 1.0199\n",
            "Epoch 2/5, Loss: 0.8443\n",
            "Epoch 3/5, Loss: 0.7681\n",
            "Epoch 4/5, Loss: 0.6995\n",
            "Epoch 5/5, Loss: 0.6287\n",
            "Validation Accuracy: 71.33%\n",
            "Test Accuracy: 80.15%\n",
            "Trial 1 Test Accuracy: 80.15%\n",
            "\n",
            "Trial 2/10\n",
            "X_train shape: (16000, 32, 32, 3)\n",
            "y_train shape: (16000,)\n",
            "Unique labels in y_train: [0 1 2 3]\n",
            "Epoch 1/5, Loss: 0.9872\n",
            "Epoch 2/5, Loss: 0.8372\n",
            "Epoch 3/5, Loss: 0.7653\n",
            "Epoch 4/5, Loss: 0.7105\n",
            "Epoch 5/5, Loss: 0.6298\n",
            "Validation Accuracy: 69.53%\n",
            "Test Accuracy: 79.17%\n",
            "Trial 2 Test Accuracy: 79.17%\n",
            "\n",
            "Trial 3/10\n",
            "X_train shape: (16000, 32, 32, 3)\n",
            "y_train shape: (16000,)\n",
            "Unique labels in y_train: [0 1 2 3]\n",
            "Epoch 1/5, Loss: 0.9857\n",
            "Epoch 2/5, Loss: 0.8172\n",
            "Epoch 3/5, Loss: 0.7466\n",
            "Epoch 4/5, Loss: 0.6742\n",
            "Epoch 5/5, Loss: 0.5971\n",
            "Validation Accuracy: 69.62%\n",
            "Test Accuracy: 79.33%\n",
            "Trial 3 Test Accuracy: 79.33%\n",
            "\n",
            "Trial 4/10\n",
            "X_train shape: (16000, 32, 32, 3)\n",
            "y_train shape: (16000,)\n",
            "Unique labels in y_train: [0 1 2 3]\n",
            "Epoch 1/5, Loss: 0.9680\n",
            "Epoch 2/5, Loss: 0.8164\n",
            "Epoch 3/5, Loss: 0.7430\n",
            "Epoch 4/5, Loss: 0.6662\n",
            "Epoch 5/5, Loss: 0.5811\n",
            "Validation Accuracy: 66.67%\n",
            "Test Accuracy: 75.53%\n",
            "Trial 4 Test Accuracy: 75.53%\n",
            "\n",
            "Trial 5/10\n",
            "X_train shape: (16000, 32, 32, 3)\n",
            "y_train shape: (16000,)\n",
            "Unique labels in y_train: [0 1 2 3]\n",
            "Epoch 1/5, Loss: 0.9966\n",
            "Epoch 2/5, Loss: 0.8289\n",
            "Epoch 3/5, Loss: 0.7520\n",
            "Epoch 4/5, Loss: 0.6879\n",
            "Epoch 5/5, Loss: 0.5986\n",
            "Validation Accuracy: 69.47%\n",
            "Test Accuracy: 79.40%\n",
            "Trial 5 Test Accuracy: 79.40%\n",
            "\n",
            "Trial 6/10\n",
            "X_train shape: (16000, 32, 32, 3)\n",
            "y_train shape: (16000,)\n",
            "Unique labels in y_train: [0 1 2 3]\n",
            "Epoch 1/5, Loss: 0.9746\n",
            "Epoch 2/5, Loss: 0.8174\n",
            "Epoch 3/5, Loss: 0.7336\n",
            "Epoch 4/5, Loss: 0.6553\n",
            "Epoch 5/5, Loss: 0.5597\n",
            "Validation Accuracy: 69.90%\n",
            "Test Accuracy: 79.03%\n",
            "Trial 6 Test Accuracy: 79.03%\n",
            "\n",
            "Trial 7/10\n",
            "X_train shape: (16000, 32, 32, 3)\n",
            "y_train shape: (16000,)\n",
            "Unique labels in y_train: [0 1 2 3]\n",
            "Epoch 1/5, Loss: 0.9985\n",
            "Epoch 2/5, Loss: 0.8242\n",
            "Epoch 3/5, Loss: 0.7605\n",
            "Epoch 4/5, Loss: 0.6846\n",
            "Epoch 5/5, Loss: 0.6153\n",
            "Validation Accuracy: 68.58%\n",
            "Test Accuracy: 78.55%\n",
            "Trial 7 Test Accuracy: 78.55%\n",
            "\n",
            "Trial 8/10\n",
            "X_train shape: (16000, 32, 32, 3)\n",
            "y_train shape: (16000,)\n",
            "Unique labels in y_train: [0 1 2 3]\n",
            "Epoch 1/5, Loss: 0.9988\n",
            "Epoch 2/5, Loss: 0.8355\n",
            "Epoch 3/5, Loss: 0.7683\n",
            "Epoch 4/5, Loss: 0.7027\n",
            "Epoch 5/5, Loss: 0.6406\n",
            "Validation Accuracy: 70.20%\n",
            "Test Accuracy: 78.65%\n",
            "Trial 8 Test Accuracy: 78.65%\n",
            "\n",
            "Trial 9/10\n",
            "X_train shape: (16000, 32, 32, 3)\n",
            "y_train shape: (16000,)\n",
            "Unique labels in y_train: [0 1 2 3]\n",
            "Epoch 1/5, Loss: 0.9896\n",
            "Epoch 2/5, Loss: 0.8226\n",
            "Epoch 3/5, Loss: 0.7470\n",
            "Epoch 4/5, Loss: 0.6765\n",
            "Epoch 5/5, Loss: 0.5879\n",
            "Validation Accuracy: 68.25%\n",
            "Test Accuracy: 77.80%\n",
            "Trial 9 Test Accuracy: 77.80%\n",
            "\n",
            "Trial 10/10\n",
            "X_train shape: (16000, 32, 32, 3)\n",
            "y_train shape: (16000,)\n",
            "Unique labels in y_train: [0 1 2 3]\n",
            "Epoch 1/5, Loss: 0.9760\n",
            "Epoch 2/5, Loss: 0.8198\n",
            "Epoch 3/5, Loss: 0.7490\n",
            "Epoch 4/5, Loss: 0.6718\n",
            "Epoch 5/5, Loss: 0.5919\n",
            "Validation Accuracy: 68.78%\n",
            "Test Accuracy: 79.58%\n",
            "Trial 10 Test Accuracy: 79.58%\n",
            "\n",
            "Average Test Accuracy after 10 trials: 78.72%\n",
            "Standard Deviation of Test Accuracy: 1.22%\n"
          ]
        }
      ]
    },
    {
      "cell_type": "markdown",
      "source": [
        "#### 4.1.2 with Transition Matrix"
      ],
      "metadata": {
        "id": "eQB_XVdPkRw5"
      }
    },
    {
      "cell_type": "code",
      "source": [
        "def train_and_evaluate(model_class, X, y, transition_matrix, epochs=10, batch_size=64):\n",
        "    X_train, X_val, y_train, y_val = train_test_split(X, y, test_size=0.2)\n",
        "    print(\"X_train shape:\", X_train.shape)\n",
        "    print(\"y_train shape:\", y_train.shape)\n",
        "    print(\"Unique labels in y_train:\", np.unique(y_train))\n",
        "\n",
        "    # Convert data to PyTorch Tensors and rearrange axes to (N, C, H, W)\n",
        "    X_train_tensor = torch.tensor(X_train, dtype=torch.float32).permute(0, 3, 1, 2)\n",
        "    y_train_tensor = torch.tensor(y_train, dtype=torch.long)\n",
        "    X_val_tensor = torch.tensor(X_val, dtype=torch.float32).permute(0, 3, 1, 2)\n",
        "    y_val_tensor = torch.tensor(y_val, dtype=torch.long)\n",
        "\n",
        "    # Calculate mean and standard deviation per channel from training data\n",
        "    mean = X_train_tensor.mean(dim=(0, 2, 3), keepdim=True)\n",
        "    std = X_train_tensor.std(dim=(0, 2, 3), keepdim=True)\n",
        "\n",
        "    # Normalize the training and validation data\n",
        "    X_train_tensor = (X_train_tensor - mean) / std\n",
        "    X_val_tensor = (X_val_tensor - mean) / std\n",
        "\n",
        "    train_dataset = TensorDataset(X_train_tensor, y_train_tensor)\n",
        "    val_dataset = TensorDataset(X_val_tensor, y_val_tensor)\n",
        "\n",
        "    train_loader = DataLoader(dataset=train_dataset, batch_size=batch_size, shuffle=True)\n",
        "    val_loader = DataLoader(dataset=val_dataset, batch_size=batch_size, shuffle=False)\n",
        "\n",
        "    model = model_class().to(device)\n",
        "    optimizer = optim.Adam(model.parameters(), lr=0.001)\n",
        "\n",
        "    for epoch in range(epochs):\n",
        "        model.train()\n",
        "        total_loss = 0\n",
        "        for data, targets in train_loader:\n",
        "            data, targets = data.to(device), targets.to(device)\n",
        "\n",
        "            outputs = model(data)\n",
        "            loss = noisy_loss_function(outputs, targets, transition_matrix)\n",
        "\n",
        "            optimizer.zero_grad()\n",
        "            loss.backward()\n",
        "            optimizer.step()\n",
        "\n",
        "            total_loss += loss.item()\n",
        "\n",
        "        avg_loss = total_loss / len(train_loader)\n",
        "        print(f'Epoch {epoch+1}/{epochs}, Loss: {avg_loss:.4f}')\n",
        "\n",
        "    # Evaluate the model on the validation set\n",
        "    accuracy = evaluate_model(model, val_loader)\n",
        "    print(f'Validation Accuracy: {accuracy:.2f}%')\n",
        "    return model, mean, std"
      ],
      "metadata": {
        "id": "UAHRPP1ChvOM"
      },
      "execution_count": 62,
      "outputs": []
    },
    {
      "cell_type": "code",
      "source": [
        "estimated_T = [[0.85, 0.018, 0.02725, 0.10475],\n",
        " [0.07763158, 0.91763158, 0.00210526, 0.00263158],\n",
        " [0.02464363, 0.14085528, 0.80985745, 0.02464363],\n",
        " [0.01093643, 0.00341763, 0.09603554, 0.88961039]]"
      ],
      "metadata": {
        "id": "gxZWl3nVrtMi"
      },
      "execution_count": null,
      "outputs": []
    },
    {
      "cell_type": "code",
      "source": [
        "# Training on the  dataset\n",
        "mean_test_accuracy_10, std_test_accuracy_10 = train_multiple_times_with_test_withT(\n",
        "    CNN32x32, Xtr_C10, Str_C10, Xts_C10, Yts_C10, estimated_T, num_trials=10, epochs=5\n",
        ")"
      ],
      "metadata": {
        "colab": {
          "base_uri": "https://localhost:8080/"
        },
        "id": "BvtaQ4LqoCcY",
        "outputId": "02755f5a-e37a-4326-f799-bb97d8e5ac55"
      },
      "execution_count": 63,
      "outputs": [
        {
          "output_type": "stream",
          "name": "stdout",
          "text": [
            "\n",
            "Trial 1/10\n",
            "X_train shape: (16000, 32, 32, 3)\n",
            "y_train shape: (16000,)\n",
            "Unique labels in y_train: [0 1 2 3]\n",
            "Epoch 1/5, Loss: 1.1020\n",
            "Epoch 2/5, Loss: 1.0010\n",
            "Epoch 3/5, Loss: 0.9550\n",
            "Epoch 4/5, Loss: 0.9167\n",
            "Epoch 5/5, Loss: 0.8692\n",
            "Validation Accuracy: 69.17%\n",
            "Test Accuracy: 80.67%\n",
            "Trial 1 Test Accuracy: 80.67%\n",
            "\n",
            "Trial 2/10\n",
            "X_train shape: (16000, 32, 32, 3)\n",
            "y_train shape: (16000,)\n",
            "Unique labels in y_train: [0 1 2 3]\n",
            "Epoch 1/5, Loss: 1.1156\n",
            "Epoch 2/5, Loss: 1.0080\n",
            "Epoch 3/5, Loss: 0.9643\n",
            "Epoch 4/5, Loss: 0.9220\n",
            "Epoch 5/5, Loss: 0.8750\n",
            "Validation Accuracy: 68.40%\n",
            "Test Accuracy: 78.53%\n",
            "Trial 2 Test Accuracy: 78.53%\n",
            "\n",
            "Trial 3/10\n",
            "X_train shape: (16000, 32, 32, 3)\n",
            "y_train shape: (16000,)\n",
            "Unique labels in y_train: [0 1 2 3]\n",
            "Epoch 1/5, Loss: 1.1139\n",
            "Epoch 2/5, Loss: 1.0168\n",
            "Epoch 3/5, Loss: 0.9735\n",
            "Epoch 4/5, Loss: 0.9379\n",
            "Epoch 5/5, Loss: 0.9003\n",
            "Validation Accuracy: 68.55%\n",
            "Test Accuracy: 78.40%\n",
            "Trial 3 Test Accuracy: 78.40%\n",
            "\n",
            "Trial 4/10\n",
            "X_train shape: (16000, 32, 32, 3)\n",
            "y_train shape: (16000,)\n",
            "Unique labels in y_train: [0 1 2 3]\n",
            "Epoch 1/5, Loss: 1.1265\n",
            "Epoch 2/5, Loss: 1.0201\n",
            "Epoch 3/5, Loss: 0.9802\n",
            "Epoch 4/5, Loss: 0.9407\n",
            "Epoch 5/5, Loss: 0.9012\n",
            "Validation Accuracy: 68.97%\n",
            "Test Accuracy: 77.85%\n",
            "Trial 4 Test Accuracy: 77.85%\n",
            "\n",
            "Trial 5/10\n",
            "X_train shape: (16000, 32, 32, 3)\n",
            "y_train shape: (16000,)\n",
            "Unique labels in y_train: [0 1 2 3]\n",
            "Epoch 1/5, Loss: 1.1364\n",
            "Epoch 2/5, Loss: 1.0173\n",
            "Epoch 3/5, Loss: 0.9724\n",
            "Epoch 4/5, Loss: 0.9340\n",
            "Epoch 5/5, Loss: 0.8936\n",
            "Validation Accuracy: 67.62%\n",
            "Test Accuracy: 78.62%\n",
            "Trial 5 Test Accuracy: 78.62%\n",
            "\n",
            "Trial 6/10\n",
            "X_train shape: (16000, 32, 32, 3)\n",
            "y_train shape: (16000,)\n",
            "Unique labels in y_train: [0 1 2 3]\n",
            "Epoch 1/5, Loss: 1.1508\n",
            "Epoch 2/5, Loss: 1.0260\n",
            "Epoch 3/5, Loss: 0.9830\n",
            "Epoch 4/5, Loss: 0.9443\n",
            "Epoch 5/5, Loss: 0.9034\n",
            "Validation Accuracy: 69.65%\n",
            "Test Accuracy: 80.78%\n",
            "Trial 6 Test Accuracy: 80.78%\n",
            "\n",
            "Trial 7/10\n",
            "X_train shape: (16000, 32, 32, 3)\n",
            "y_train shape: (16000,)\n",
            "Unique labels in y_train: [0 1 2 3]\n",
            "Epoch 1/5, Loss: 1.1018\n",
            "Epoch 2/5, Loss: 1.0089\n",
            "Epoch 3/5, Loss: 0.9616\n",
            "Epoch 4/5, Loss: 0.9134\n",
            "Epoch 5/5, Loss: 0.8644\n",
            "Validation Accuracy: 67.90%\n",
            "Test Accuracy: 78.22%\n",
            "Trial 7 Test Accuracy: 78.22%\n",
            "\n",
            "Trial 8/10\n",
            "X_train shape: (16000, 32, 32, 3)\n",
            "y_train shape: (16000,)\n",
            "Unique labels in y_train: [0 1 2 3]\n",
            "Epoch 1/5, Loss: 1.1019\n",
            "Epoch 2/5, Loss: 1.0027\n",
            "Epoch 3/5, Loss: 0.9563\n",
            "Epoch 4/5, Loss: 0.9132\n",
            "Epoch 5/5, Loss: 0.8648\n",
            "Validation Accuracy: 68.45%\n",
            "Test Accuracy: 79.30%\n",
            "Trial 8 Test Accuracy: 79.30%\n",
            "\n",
            "Trial 9/10\n",
            "X_train shape: (16000, 32, 32, 3)\n",
            "y_train shape: (16000,)\n",
            "Unique labels in y_train: [0 1 2 3]\n",
            "Epoch 1/5, Loss: 1.1031\n",
            "Epoch 2/5, Loss: 1.0098\n",
            "Epoch 3/5, Loss: 0.9681\n",
            "Epoch 4/5, Loss: 0.9225\n",
            "Epoch 5/5, Loss: 0.8749\n",
            "Validation Accuracy: 68.65%\n",
            "Test Accuracy: 79.75%\n",
            "Trial 9 Test Accuracy: 79.75%\n",
            "\n",
            "Trial 10/10\n",
            "X_train shape: (16000, 32, 32, 3)\n",
            "y_train shape: (16000,)\n",
            "Unique labels in y_train: [0 1 2 3]\n",
            "Epoch 1/5, Loss: 1.1250\n",
            "Epoch 2/5, Loss: 1.0218\n",
            "Epoch 3/5, Loss: 0.9762\n",
            "Epoch 4/5, Loss: 0.9370\n",
            "Epoch 5/5, Loss: 0.8937\n",
            "Validation Accuracy: 69.30%\n",
            "Test Accuracy: 79.75%\n",
            "Trial 10 Test Accuracy: 79.75%\n",
            "\n",
            "Average Test Accuracy after 10 trials: 79.19%\n",
            "Standard Deviation of Test Accuracy: 0.97%\n"
          ]
        }
      ]
    },
    {
      "cell_type": "markdown",
      "source": [
        "### 4.2 Logistic Regression for CIFAR dataset"
      ],
      "metadata": {
        "id": "Al1DSx29olu4"
      }
    },
    {
      "cell_type": "code",
      "source": [
        "def logistic(X_tr, S_tr, X_ts, Y_ts, estimated_T):\n",
        "    # Initialize lists to store accuracy results for validation and test sets\n",
        "    acc_valid_list = []\n",
        "    acc_test_without_T_list = []\n",
        "    acc_test_with_T_list = []\n",
        "\n",
        "    # Run multiple training and evaluation iterations\n",
        "    for i in range(10):\n",
        "        # Split the training data into training and validation sets\n",
        "        X_train, X_valid, y_train, y_valid = train_test_split(X_tr, S_tr, test_size=0.2, shuffle=True)\n",
        "\n",
        "        # Flatten the data to convert image data into a 2D matrix\n",
        "        X_train_flat = X_train.reshape(X_train.shape[0], -1)\n",
        "        X_valid_flat = X_valid.reshape(X_valid.shape[0], -1)\n",
        "        X_ts_flat = X_ts.reshape(X_ts.shape[0], -1)\n",
        "\n",
        "        # Initialize and train the logistic model\n",
        "        model = LogisticRegression()\n",
        "        model.fit(X_train_flat, y_train)\n",
        "\n",
        "        # Predict and calculate accuracy on the validation set\n",
        "        y_pred = model.predict(X_valid_flat)\n",
        "        acc_valid = accuracy_score(y_pred, y_valid)\n",
        "        acc_valid_list.append(acc_valid)\n",
        "\n",
        "        # Predict and calculate accuracy on the test set (without transition matrix)\n",
        "        y_pred = model.predict(X_ts_flat)\n",
        "        acc_test_without_T = accuracy_score(y_pred, Y_ts)\n",
        "        acc_test_without_T_list.append(acc_test_without_T)\n",
        "\n",
        "        # Calculate accuracy on the test set using the transition matrix\n",
        "        prob = model.predict_proba(X_ts_flat)\n",
        "        prob = np.dot(np.linalg.inv(estimated_T), prob.T).T  # Apply transition matrix\n",
        "        y_pred = np.argmax(prob, axis=1)\n",
        "        acc_test_with_T = accuracy_score(y_pred, Y_ts)\n",
        "        acc_test_with_T_list.append(acc_test_with_T)\n",
        "\n",
        "        # Print accuracy for each iteration\n",
        "        print(\"Current epoch: %d, Accuracy on valid set: %.4f%%, accuracy on test set without Transition Matrix: %.4f%%, accuracy on test set with Transition Matrix: %.4f%%\"\n",
        "              % (i+1, acc_valid * 100, acc_test_without_T * 100, acc_test_with_T * 100))\n",
        "\n",
        "    # Calculate and print the mean and standard deviation for validation and test set accuracies\n",
        "    print(\"Mean on valid set: %.4f, Mean on test set without Transition Matrix: %.4f, Mean on test set with Transition Matrix: %.4f\"\n",
        "          % (np.mean(acc_valid_list), np.mean(acc_test_without_T_list), np.mean(acc_test_with_T_list)))\n",
        "\n",
        "    print(\"Std on valid set: %.4f, Std on test set without Transition Matrix: %.4f, Std on test set with Transition Matrix: %.4f\"\n",
        "          % (np.std(acc_valid_list), np.std(acc_test_without_T_list), np.std(acc_test_with_T_list)))\n",
        "\n",
        "# Assume X_tr, S_tr, X_ts, and Y_ts are defined\n",
        "logistic_10 = logistic(Xtr_C10, Str_C10, Xts_C10, Yts_C10, estimated_T)\n",
        "logistic_10"
      ],
      "metadata": {
        "colab": {
          "base_uri": "https://localhost:8080/"
        },
        "id": "csVCJhFE5TtJ",
        "outputId": "5a7a4843-7ec0-4c86-d9a8-e71a98269cca"
      },
      "execution_count": null,
      "outputs": [
        {
          "output_type": "stream",
          "name": "stdout",
          "text": [
            "Current epoch: 1, Accuracy on valid set: 53.3750%, accuracy on test set without Transition Matrix: 59.8000%, accuracy on test set with Transition Matrix: 60.0250%\n",
            "Current epoch: 2, Accuracy on valid set: 54.0750%, accuracy on test set without Transition Matrix: 59.6000%, accuracy on test set with Transition Matrix: 60.1000%\n",
            "Current epoch: 3, Accuracy on valid set: 53.8000%, accuracy on test set without Transition Matrix: 60.1750%, accuracy on test set with Transition Matrix: 60.6250%\n",
            "Current epoch: 4, Accuracy on valid set: 52.8500%, accuracy on test set without Transition Matrix: 60.2750%, accuracy on test set with Transition Matrix: 60.4500%\n",
            "Current epoch: 5, Accuracy on valid set: 52.6500%, accuracy on test set without Transition Matrix: 60.8250%, accuracy on test set with Transition Matrix: 61.2500%\n",
            "Current epoch: 6, Accuracy on valid set: 54.0250%, accuracy on test set without Transition Matrix: 60.2500%, accuracy on test set with Transition Matrix: 60.9250%\n",
            "Current epoch: 7, Accuracy on valid set: 52.7750%, accuracy on test set without Transition Matrix: 60.3000%, accuracy on test set with Transition Matrix: 60.6750%\n",
            "Current epoch: 8, Accuracy on valid set: 53.9500%, accuracy on test set without Transition Matrix: 59.7500%, accuracy on test set with Transition Matrix: 60.2500%\n",
            "Current epoch: 9, Accuracy on valid set: 52.0500%, accuracy on test set without Transition Matrix: 59.6250%, accuracy on test set with Transition Matrix: 59.7500%\n",
            "Current epoch: 10, Accuracy on valid set: 53.4500%, accuracy on test set without Transition Matrix: 59.7250%, accuracy on test set with Transition Matrix: 60.1750%\n",
            "Mean on valid set: 0.5330, Mean on test set without Transition Matrix: 0.6003, Mean on test set with Transition Matrix: 0.6042\n",
            "Std on valid set: 0.0065, Std on test set without Transition Matrix: 0.0038, Std on test set with Transition Matrix: 0.0043\n"
          ]
        }
      ]
    }
  ]
}